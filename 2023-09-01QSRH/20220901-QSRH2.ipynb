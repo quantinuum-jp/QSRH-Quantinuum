{
 "cells": [
  {
   "cell_type": "markdown",
   "id": "ca39b377",
   "metadata": {},
   "source": [
    "# 量子回路最適化"
   ]
  },
  {
   "cell_type": "markdown",
   "id": "748066d1-9cb0-4222-bac0-c33d46f1d3e8",
   "metadata": {
    "tags": []
   },
   "source": [
    "## 4. 量子回路の最適化\n",
    "例えば、Hゲートを同じビットに連続して作用させるとゲート操作をしていないのと恒等な量子状態が得られます。  \n",
    "<img src=\"fig/circ.png\" width=\"500\">\n",
    "\n",
    "量子回路が深くなる（ゲート数が多くなる）ほど、誤差が大きくなるNISQ デバイスでは左辺のような状況は除去したい。  \n",
    "\n",
    "その他にも下記のような恒等な関係があります。  \n",
    "<img src=\"fig/relation.png\" width=\"700\">"
   ]
  },
  {
   "cell_type": "markdown",
   "id": "8412fb2c",
   "metadata": {},
   "source": [
    "`PauliSimp`関数や`get_compiled_circuit`の紹介を行ったが、'TKET'にはその他にも量子回路を最適化するための多くの機能が備わっている。\n",
    "\n",
    "### 4-1. TKETの量子回路の最適化\n",
    "`TKET`の最適化の機能は次のように２つの種類に分けられる\n",
    "\n",
    "a. 量子デバイスの設計とは関係のない量子回路の最適化:\n",
    "    `FullPeepholeOptimise` \n",
    "    `PauliSimp` \n",
    "    `PauliSquash` \n",
    "   \n",
    "b. 量子デバイスの設計に関連した量子回路の最適化:\n",
    "    `get_compiled_circuit`\n",
    "\n",
    "### 4-2. いくつかの量子回路の最適化関数や変換\n",
    "a. `CliffordSimp`,\n",
    "\n",
    "b. `RemoveRedundancies`, \n",
    "\n",
    "c. `CommuteThroughMultis`, \n",
    "\n",
    "d. `EulerAngleReduction`,\n",
    "\n",
    "### 4-3. 量子回路の最適化のカスタマイズ (オプション)\n",
    "- `SequencePass`\n",
    "\n",
    "について紹介する。\n",
    "\n",
    "#### 参照\n",
    "- [pytket ドキュメント](https://cqcl.github.io/tket/pytket/api/index.html)\n",
    "- [pytket ユーザーマニュアル](https://cqcl.github.io/pytket/manual/index.html)\n"
   ]
  },
  {
   "cell_type": "markdown",
   "id": "311b707c",
   "metadata": {
    "tags": []
   },
   "source": [
    "### 4-0. 量子回路の準備\n",
    "ランダムなゲートの選択によって量子回路を生成し、回路の深さとCXの深さを数える。"
   ]
  },
  {
   "cell_type": "code",
   "execution_count": null,
   "id": "98bdef1e",
   "metadata": {
    "tags": []
   },
   "outputs": [],
   "source": [
    "from pytket import Circuit\n",
    "from pytket.circuit.display import render_circuit_jupyter\n",
    "from pytket.circuit import OpType\n",
    "from pytket.pauli import Pauli\n",
    "from pytket.circuit import PauliExpBox, fresh_symbol, OpType\n",
    "from pytket.passes import DecomposeBoxes\n",
    "box = PauliExpBox([Pauli.I, Pauli.Z, Pauli.X, Pauli.Y], fresh_symbol('tm'))\n",
    "from pytket.utils import Graph\n",
    "import numpy as np"
   ]
  },
  {
   "cell_type": "code",
   "execution_count": null,
   "id": "6002247c",
   "metadata": {
    "tags": []
   },
   "outputs": [],
   "source": [
    "def random_circuit(\n",
    "    n_qubits, depth, max_ops=3, measure=False, seed=None\n",
    "):\n",
    "    if max_ops < 1 or max_ops > 3:\n",
    "        raise print(\"max_ops must be between 1 and 3\")\n",
    "    op1types = [OpType.X, OpType.Y, OpType.Z, OpType.H, OpType.S, OpType.Sdg, OpType.T, OpType.Tdg, OpType.V, OpType.Vdg]\n",
    "    op2types = [OpType.CX, OpType.CY, OpType.CZ, OpType.CV, OpType.CVdg, OpType.CH]\n",
    "    op3types = [OpType.CCX]\n",
    "    circ = Circuit(n_qubits)\n",
    "    if seed is None:\n",
    "        rng = np.random.default_rng()\n",
    "    else:\n",
    "        rng = np.random.default_rng(seed)\n",
    "    for _ in range(depth):\n",
    "        choose_qubits = list(range(n_qubits))\n",
    "        rng.shuffle(choose_qubits)\n",
    "        while choose_qubits:\n",
    "            max_possible = min(len(choose_qubits), max_ops)\n",
    "            n_ops = rng.choice(range(max_possible)) + 1\n",
    "            ops = [choose_qubits.pop() for _ in range(n_ops)]\n",
    "            if n_ops == 1:\n",
    "                ope = rng.choice(op1types)\n",
    "            elif n_ops == 2:\n",
    "                ope = rng.choice(op2types)\n",
    "            elif n_ops == 3:\n",
    "                ope = rng.choice(op3types)\n",
    "            circ.add_gate(ope, ops)\n",
    "    if measure:\n",
    "        circ.measure_all()\n",
    "    return circ\n",
    "\n",
    "def random_circuit_para(\n",
    "    n_qubits, depth, max_ops=3, measure=False, seed=None\n",
    "):\n",
    "    if max_ops < 1 or max_ops > 3:\n",
    "        raise print(\"max_ops must be between 1 and 3\")\n",
    "    op1types = [OpType.X, OpType.Y, OpType.Z, OpType.H, OpType.S, OpType.Sdg, OpType.T, OpType.Tdg, OpType.V, OpType.Vdg, OpType.Rx, OpType.Ry, OpType.Rz]\n",
    "    op2types = [OpType.XXPhase, OpType.YYPhase, OpType.ZZPhase, OpType.CX, OpType.CY, OpType.CZ, OpType.CV, OpType.CVdg, OpType.CH, OpType.CRx, OpType.CRy, OpType.CRz]\n",
    "    op3types = [OpType.CCX]\n",
    "    para1 = [OpType.Rx, OpType.Ry, OpType.Rz, OpType.CRx, OpType.CRy, OpType.CRz, OpType.XXPhase, OpType.YYPhase, OpType.ZZPhase]\n",
    "    circ = Circuit(n_qubits)\n",
    "    if seed is None:\n",
    "        rng = np.random.default_rng()\n",
    "    else:\n",
    "        rng = np.random.default_rng(seed)\n",
    "    for _ in range(depth):\n",
    "        choose_qubits = list(range(n_qubits))\n",
    "        rng.shuffle(choose_qubits)\n",
    "        while choose_qubits:\n",
    "            max_possible = min(len(choose_qubits), max_ops)\n",
    "            n_ops = rng.choice(range(max_possible)) + 1\n",
    "            ops = [choose_qubits.pop() for _ in range(n_ops)]\n",
    "            if n_ops == 1:\n",
    "                ope = rng.choice(op1types)\n",
    "            elif n_ops == 2:\n",
    "                ope = rng.choice(op2types)\n",
    "            elif n_ops == 3:\n",
    "                ope = rng.choice(op3types)\n",
    "            if ope in para1:\n",
    "                circ.add_gate(ope, rng.uniform(0, 2 * np.pi), ops)\n",
    "            else:\n",
    "                circ.add_gate(ope, ops)\n",
    "    if measure:\n",
    "        circ.measure_all()\n",
    "    return circ\n",
    "\n",
    "def get_random_pauli_gadgets(n_qubits, n_pauli_gadgets, max_entangle):\n",
    "    paulis = [Pauli.I, Pauli.X, Pauli.Y, Pauli.Z]\n",
    "    circ = Circuit(n_qubits)\n",
    "    for i in range(n_pauli_gadgets):\n",
    "        ls_paulis = [np.random.choice(paulis) for k in range(max_entangle)]\n",
    "        if ls_paulis.count(Pauli.Y) % 2 == 0:\n",
    "            continue\n",
    "        if len(ls_paulis) - ls_paulis.count(Pauli.I) <= 1:\n",
    "            continue\n",
    "        qubits = np.random.choice(\n",
    "            [i for i in range(n_qubits)], size=max_entangle, replace=False\n",
    "        )\n",
    "        box = PauliExpBox(ls_paulis, fresh_symbol('a'))\n",
    "        circ.add_pauliexpbox(box, sorted(qubits))\n",
    "    DecomposeBoxes().apply(circ)\n",
    "    return circ"
   ]
  },
  {
   "cell_type": "markdown",
   "id": "673d6dc7",
   "metadata": {
    "tags": []
   },
   "source": [
    "### 深さ200のランダムな量子回路を生成"
   ]
  },
  {
   "cell_type": "code",
   "execution_count": null,
   "id": "75113e8a",
   "metadata": {
    "tags": []
   },
   "outputs": [],
   "source": [
    "circ1 = random_circuit(n_qubits=2, depth=200, max_ops=1)\n",
    "circ2 = random_circuit(n_qubits=3, depth=200, max_ops=2)\n",
    "circ3 = random_circuit(n_qubits=4, depth=200, max_ops=3)\n",
    "print('Circuit depth: ', circ1.depth())\n",
    "print('Control depth: ', circ1.depth_by_type({OpType.CX, OpType.CY, OpType.CZ, OpType.CV, OpType.CVdg, OpType.CH}))\n",
    "render_circuit_jupyter(circ1)\n",
    "print('Circuit depth: ', circ2.depth())\n",
    "print('Control depth: ', circ2.depth_by_type({OpType.CX, OpType.CY, OpType.CZ, OpType.CV, OpType.CVdg, OpType.CH}))\n",
    "render_circuit_jupyter(circ2)\n",
    "print('Circuit depth: ', circ3.depth())\n",
    "print('Control depth: ', circ3.depth_by_type({OpType.CX, OpType.CY, OpType.CZ, OpType.CV, OpType.CVdg, OpType.CH}))\n",
    "print('CCX depth: ', circ3.depth_by_type(OpType.CCX))\n",
    "render_circuit_jupyter(circ3)"
   ]
  },
  {
   "cell_type": "markdown",
   "id": "25ce3484",
   "metadata": {},
   "source": [
    "### 4-1. TKETの量子回路の最適化"
   ]
  },
  {
   "cell_type": "markdown",
   "id": "4b600895",
   "metadata": {},
   "source": [
    "### a. 量子デバイスの設計とは関係のない量子回路の最適化(量子デバイス非依存): `FullPeepholeOptimise`\n",
    "`FullPeepholeOptimise`は`CliffordSimp`, `RemoveRedundancies`, `CommuteThroughMultis`, `KAKDecomposition`, `EulerAngleReduction`から構成されている量子回路最適化です。\n",
    "こちらは、量子デバイスが用意しているゲートセットやアーキテクチャー等を考慮せずに最適化されます。"
   ]
  },
  {
   "cell_type": "markdown",
   "id": "043d2dff",
   "metadata": {},
   "source": [
    "3.1で、`PauliSimp` 関数を利用した時と同様にして、`FullPeepholeOptimise`を利用することができます。"
   ]
  },
  {
   "cell_type": "code",
   "execution_count": null,
   "id": "94b32c25",
   "metadata": {
    "tags": []
   },
   "outputs": [],
   "source": [
    "from pytket.passes import FullPeepholeOptimise\n",
    "circ1x=circ1.copy()\n",
    "FullPeepholeOptimise().apply(circ1x)\n",
    "print('Circuit depth: ', circ1x.depth())\n",
    "print('CX depth: ', circ1x.depth_by_type(OpType.CX))\n",
    "render_circuit_jupyter(circ1x)\n",
    "circ2x=circ2.copy()\n",
    "FullPeepholeOptimise().apply(circ2x)\n",
    "print('Circuit depth: ', circ2x.depth())\n",
    "print('CX depth: ', circ2x.depth_by_type(OpType.CX))\n",
    "render_circuit_jupyter(circ2x)\n",
    "circ3x=circ3.copy()\n",
    "FullPeepholeOptimise().apply(circ3x)\n",
    "print('Circuit depth: ', circ3x.depth())\n",
    "print('CX depth: ', circ3x.depth_by_type(OpType.CX))\n",
    "print('CCX depth: ', circ3x.depth_by_type(OpType.CCX))\n",
    "render_circuit_jupyter(circ3x)"
   ]
  },
  {
   "cell_type": "markdown",
   "id": "8a437618",
   "metadata": {},
   "source": [
    "ここで、$\\mathrm{TK1}(\\alpha,\\beta,\\gamma)$はオイラー角\n",
    "$$\n",
    "Rz(\\alpha)Rx(\\beta)Rz(\\gamma)\n",
    "$$\n",
    "を表す"
   ]
  },
  {
   "cell_type": "markdown",
   "id": "57857867",
   "metadata": {},
   "source": [
    "### a. 量子デバイスの設計とは関係のない量子回路の最適化: `PauliSquash`\n",
    "`PauliSquash`=`PauliSimp`+`FullPeepholeOptimise`"
   ]
  },
  {
   "cell_type": "code",
   "execution_count": null,
   "id": "2cb4de9d",
   "metadata": {
    "tags": []
   },
   "outputs": [],
   "source": [
    "circg = get_random_pauli_gadgets(n_qubits=4, n_pauli_gadgets=100, max_entangle=3)\n",
    "print('Circuit depth: ', circg.depth())\n",
    "print('CX depth: ', circg.depth_by_type(OpType.CX))\n",
    "render_circuit_jupyter(circg)"
   ]
  },
  {
   "cell_type": "code",
   "execution_count": null,
   "id": "d1d62e07",
   "metadata": {
    "tags": []
   },
   "outputs": [],
   "source": [
    "from pytket.passes import PauliSimp, PauliSquash\n",
    "circgSi = circg.copy()\n",
    "circgSq = circg.copy()\n",
    "PauliSimp().apply(circgSi)\n",
    "print('Circuit depth: ', circgSi.depth())\n",
    "print('CX depth: ', circgSi.depth_by_type(OpType.CX))\n",
    "render_circuit_jupyter(circgSi)\n",
    "PauliSquash().apply(circgSq)\n",
    "print('Circuit depth: ', circgSq.depth())\n",
    "print('CX depth: ', circgSq.depth_by_type(OpType.CX))\n",
    "render_circuit_jupyter(circgSq)"
   ]
  },
  {
   "cell_type": "markdown",
   "id": "4934d00d",
   "metadata": {
    "tags": []
   },
   "source": [
    "### b. 量子デバイスの設計に関連した量子回路の最適化(量子デバイス依存): `get_compiled_circuit`\n",
    "'TKET'では量子デバイス非依存の量子回路の最適化だけでなく、量子デバイスのアーキテクチャに対して量子回路を最適化する関数が用意されてます。  \n",
    "こちらは、量子デバイスが用意しているゲートセットやアーキテクチャー等を考慮した量子回路の最適化です。\n",
    "\n",
    "Optimisationのレベルを0,1,2から選択でき、それぞれ以下のようになっています。\n",
    "\n",
    "|  レベル |  概要  |\n",
    "| :---- | :---- |\n",
    "|  0  | Just solves the constraints as simply as possible. No optimisation. |\n",
    "|  1  | Adds basic optimisations (those covered by the SynthesiseX() passes) for efficient compilation. |\n",
    "|  2  (default)| Extends to more intensive optimisations (those covered by the FullPeepholeOptimise() pass). |"
   ]
  },
  {
   "cell_type": "markdown",
   "id": "a35aa534",
   "metadata": {},
   "source": [
    "### IBMのクラウドシミュレータ（ibmq_lima）にジョブを実行\n",
    "<img src=\"./fig/lima.png\" width=\"250\">  \n",
    "\n",
    "IBM Quantum device `ibmq_lima` https://quantum-computing.ibm.com/services/resources?tab=systems&skip=20&system=ibmq_lima\n",
    "\n"
   ]
  },
  {
   "cell_type": "code",
   "execution_count": null,
   "id": "dffd479f",
   "metadata": {
    "tags": []
   },
   "outputs": [],
   "source": [
    "path = 'key/ibm-token'\n",
    "f = open(path)\n",
    "ibm_token = f.read()\n",
    "f.close()\n",
    "my_instance=\"ibm-q/open/main\"\n",
    "from pytket.extensions.qiskit.backends.config import set_ibmq_config\n",
    "set_ibmq_config(ibmq_api_token=ibm_token, instance=my_instance)"
   ]
  },
  {
   "cell_type": "code",
   "execution_count": null,
   "id": "fd758257-6849-46b6-a005-3ca8b0345f51",
   "metadata": {
    "tags": []
   },
   "outputs": [],
   "source": [
    "from qiskit_ibm_provider import IBMProvider\n",
    "IBMProvider.save_account(token=ibm_token, overwrite=True)"
   ]
  },
  {
   "cell_type": "code",
   "execution_count": null,
   "id": "86514c50-58b8-444f-b803-00db776816e6",
   "metadata": {
    "tags": []
   },
   "outputs": [],
   "source": [
    "from pytket.extensions.qiskit import IBMQEmulatorBackend, IBMQBackend"
   ]
  },
  {
   "cell_type": "code",
   "execution_count": null,
   "id": "c88195cc-1fac-4013-b2c4-280b2aaf5597",
   "metadata": {
    "tags": []
   },
   "outputs": [],
   "source": [
    "list_backend=IBMQBackend.available_devices(instance=my_instance)\n",
    "[dev.device_name for dev in list_backend]"
   ]
  },
  {
   "cell_type": "code",
   "execution_count": null,
   "id": "6f33869e-1e02-4635-bd94-a011b666344c",
   "metadata": {
    "tags": []
   },
   "outputs": [],
   "source": [
    "backend = IBMQEmulatorBackend(\"ibmq_lima\",token=ibm_token)"
   ]
  },
  {
   "cell_type": "code",
   "execution_count": null,
   "id": "e8287329",
   "metadata": {
    "tags": []
   },
   "outputs": [],
   "source": [
    "print('Original')\n",
    "print('Circuit depth: ', circ3x.depth())\n",
    "print('CX depth: ', circ3x.depth_by_type(OpType.CX))\n",
    "circ3x0 = circ3x.copy()\n",
    "circ3x0 = backend.get_compiled_circuit(circ3x0,optimisation_level=0)\n",
    "print('Level 0')\n",
    "print('Circuit depth: ', circ3x0.depth())\n",
    "print('CX depth: ', circ3x0.depth_by_type(OpType.CX))\n",
    "circ3x1 = circ3x.copy()\n",
    "circ3x1 = backend.get_compiled_circuit(circ3x1,optimisation_level=1)\n",
    "print('Level 1')\n",
    "print('Circuit depth: ', circ3x1.depth())\n",
    "print('CX depth: ', circ3x1.depth_by_type(OpType.CX))\n",
    "circ3x2 = circ3x.copy()\n",
    "circ3x2 = backend.get_compiled_circuit(circ3x2,optimisation_level=2)\n",
    "print('Level 2')\n",
    "print('Circuit depth: ', circ3x2.depth())\n",
    "print('CX depth: ', circ3x2.depth_by_type(OpType.CX))"
   ]
  },
  {
   "cell_type": "code",
   "execution_count": null,
   "id": "6b02da7e-c34f-4a04-9d12-7f8454100cec",
   "metadata": {
    "tags": []
   },
   "outputs": [],
   "source": [
    "print('Original')\n",
    "render_circuit_jupyter(circ3x)\n",
    "print('Level 0')\n",
    "render_circuit_jupyter(circ3x0)\n",
    "print('Level 1')\n",
    "render_circuit_jupyter(circ3x1)\n",
    "print('Level 2')\n",
    "render_circuit_jupyter(circ3x2)"
   ]
  },
  {
   "cell_type": "code",
   "execution_count": null,
   "id": "716cb0e0",
   "metadata": {
    "tags": []
   },
   "outputs": [],
   "source": [
    "circ3x2.measure_all()\n",
    "handle = backend.process_circuit(circ3x2, n_shots =10000)\n",
    "result_counts = backend.get_result(handle).get_counts()\n",
    "plot_histogram(result_counts)"
   ]
  },
  {
   "cell_type": "code",
   "execution_count": null,
   "id": "bed915fd-bebc-47c9-bc27-9c72386761e6",
   "metadata": {},
   "outputs": [],
   "source": []
  },
  {
   "cell_type": "markdown",
   "id": "ec0698b5",
   "metadata": {},
   "source": [
    "### 5-2. いくつかの量子回路の最適化関数や変換\n",
    "a. `CliffordSimp`,\n",
    "\n",
    "b. `RemoveRedundancies`, \n",
    "\n",
    "c. `CommuteThroughMultis`, \n",
    "\n",
    "e. `EulerAngleReduction`, \n",
    "\n",
    "d. `KAKDecomposition` (省略)"
   ]
  },
  {
   "cell_type": "markdown",
   "id": "ff8e4ada",
   "metadata": {},
   "source": [
    "### a. `CliffordSimp`\n",
    "2量子ビットゲートの数を減らすことができるクリフォードゲートの特定のシーケンスを探す。"
   ]
  },
  {
   "cell_type": "code",
   "execution_count": null,
   "id": "785497d1",
   "metadata": {
    "tags": []
   },
   "outputs": [],
   "source": [
    "# Circuit optimization by using compiler passes.\n",
    "from pytket.passes import CliffordSimp\n",
    "# A basic inefficient pattern can be reduced by 1 CX\n",
    "simple = Circuit(2)\n",
    "simple.CX(0, 1).S(1).CX(1, 0)\n",
    "render_circuit_jupyter(simple)\n",
    "\n",
    "CliffordSimp().apply(simple)\n",
    "render_circuit_jupyter(simple)"
   ]
  },
  {
   "cell_type": "code",
   "execution_count": null,
   "id": "3b05452b",
   "metadata": {
    "tags": []
   },
   "outputs": [],
   "source": [
    "from pytket import Circuit, OpType\n",
    "from pytket.passes import CliffordSimp\n",
    "\n",
    "# The same pattern, up to commutation and local Clifford algebra\n",
    "circ = Circuit(3)\n",
    "circ.Rz(0.2, 0)\n",
    "circ.Rx(0.35, 1)\n",
    "circ.V(0).H(1).CX(0, 1).CX(1, 2).Rz(-0.6, 2).CX(1, 2).CX(0, 1).Vdg(0).H(1)\n",
    "circ.H(1).H(2).CX(0, 1).CX(1, 2).Rz(0.8, 2).CX(1, 2).CX(0, 1).H(1).H(2)\n",
    "circ.Rx(0.1, 1)\n",
    "print('Circuit depth: ', circ.depth())\n",
    "print('CX depth: ', circ.depth_by_type(OpType.CX))\n",
    "render_circuit_jupyter(circ)\n",
    "CliffordSimp().apply(circ)\n",
    "print('Circuit depth: ', circ.depth())\n",
    "print('CX depth: ', circ.depth_by_type(OpType.CX))\n",
    "render_circuit_jupyter(circ)"
   ]
  },
  {
   "cell_type": "markdown",
   "id": "36b1b117",
   "metadata": {},
   "source": [
    "### b. `RemoveRedundancies`\n",
    "ゼロパラメータの回転ゲート、ゲートと逆のペア、同じ基底で隣接する回転ゲートなどを削減します。"
   ]
  },
  {
   "cell_type": "code",
   "execution_count": null,
   "id": "54723d03",
   "metadata": {
    "tags": []
   },
   "outputs": [],
   "source": [
    "from pytket.passes import RemoveRedundancies\n",
    "circ = Circuit(3, 3)\n",
    "circ.Rx(0.92, 0).CX(1, 2).Rx(-0.18, 0)  # Adjacent Rx gates can be merged\n",
    "circ.CZ(0, 1).Ry(0.11, 2).CZ(0, 1)      # CZ is self-inverse\n",
    "circ.add_gate(OpType.XXPhase, 0.6, [0, 1])\n",
    "circ.add_gate(OpType.YYPhase, 0, [0, 1])    # 0-angle rotation does nothing\n",
    "circ.add_gate(OpType.ZZPhase, -0.84, [0, 1])\n",
    "circ.Rx(0.03, 0).Rz(-0.9, 1).measure_all()  # Effect of Rz is eliminated by measurement\n",
    "print('Circuit depth: ', circ.depth())\n",
    "print('CX depth: ', circ.depth_by_type(OpType.CX))\n",
    "render_circuit_jupyter(circ)\n",
    "\n",
    "RemoveRedundancies().apply(circ)\n",
    "print('Circuit depth: ', circ.depth())\n",
    "print('CX depth: ', circ.depth_by_type(OpType.CX))\n",
    "render_circuit_jupyter(circ)\n"
   ]
  },
  {
   "cell_type": "code",
   "execution_count": null,
   "id": "01be6d1e",
   "metadata": {},
   "outputs": [],
   "source": []
  },
  {
   "cell_type": "markdown",
   "id": "efd31a97",
   "metadata": {},
   "source": [
    "### c. `CommuteThroughMultis`\n",
    "\"1量子ビットゲートと可換な\"2量子ビットゲートが先に作用している場合、これらを交換する。"
   ]
  },
  {
   "cell_type": "code",
   "execution_count": null,
   "id": "00cdf1a0",
   "metadata": {
    "tags": []
   },
   "outputs": [],
   "source": [
    "from pytket.passes import CommuteThroughMultis\n",
    "circD = Circuit(3)\n",
    "circD.CX(0,2).X(2)\n",
    "render_circuit_jupyter(circD)\n",
    "CommuteThroughMultis().apply(circD)\n",
    "render_circuit_jupyter(circD)"
   ]
  },
  {
   "cell_type": "markdown",
   "id": "c7455829",
   "metadata": {
    "tags": []
   },
   "source": [
    "### d. `EulerAngleReduction`\n",
    "`EulerAngleReduction`では、ユニタリ行列のオイラー角分解を与える。"
   ]
  },
  {
   "cell_type": "code",
   "execution_count": null,
   "id": "a0ad2ac4",
   "metadata": {
    "tags": []
   },
   "outputs": [],
   "source": [
    "from pytket.circuit import Circuit, OpType\n",
    "from pytket.circuit.display import render_circuit_jupyter\n",
    "from pytket.passes import EulerAngleReduction, auto_rebase_pass\n",
    "rebase = auto_rebase_pass({OpType.CZ, OpType.Rx, OpType.Rz})\n",
    "circE = Circuit(1)\n",
    "circE.H(0).T(0)\n",
    "render_circuit_jupyter(circE)\n",
    "rebase.apply(circE)\n",
    "render_circuit_jupyter(circE)\n",
    "EulerAngleReduction(OpType.Rx, OpType.Rz).apply(circE)\n",
    "render_circuit_jupyter(circE)\n",
    "EulerAngleReduction(OpType.Rz, OpType.Rx).apply(circE)\n",
    "render_circuit_jupyter(circE)"
   ]
  },
  {
   "cell_type": "code",
   "execution_count": null,
   "id": "a015ab0b",
   "metadata": {
    "tags": []
   },
   "outputs": [],
   "source": [
    "from pytket.circuit import Circuit, OpType\n",
    "from pytket.circuit.display import render_circuit_jupyter\n",
    "from pytket.passes import EulerAngleReduction, auto_rebase_pass\n",
    "rebase = auto_rebase_pass({OpType.CX, OpType.Rx, OpType.Ry})\n",
    "circE = Circuit(1)\n",
    "circE.H(0).T(0)\n",
    "render_circuit_jupyter(circE)\n",
    "rebase.apply(circE)\n",
    "render_circuit_jupyter(circE)\n",
    "#EulerAngleReduction(OpType.Rx, OpType.Ry).apply(circE)\n",
    "#render_circuit_jupyter(circE)\n",
    "EulerAngleReduction(OpType.Ry, OpType.Rx).apply(circE)\n",
    "render_circuit_jupyter(circE)"
   ]
  },
  {
   "cell_type": "markdown",
   "id": "01165e5f",
   "metadata": {},
   "source": [
    "### 5-3. 量子回路の最適化のカスタマイズ: \n",
    "- `SequencePass`"
   ]
  },
  {
   "cell_type": "markdown",
   "id": "cf00abd9",
   "metadata": {},
   "source": [
    "'TKET'にはそのほかにも多くの量子回路最適化を用意している。\n",
    "これらを最適化のパスに組み込みたい場合や自分で実装した最適化関数をパスに組み込みたい場合には`SequencePass`を利用すれば、カスタマイズが可能である。"
   ]
  },
  {
   "cell_type": "code",
   "execution_count": null,
   "id": "f9225448",
   "metadata": {
    "tags": []
   },
   "outputs": [],
   "source": [
    "from pytket import Circuit, OpType\n",
    "from pytket.passes import auto_rebase_pass, EulerAngleReduction, SequencePass\n",
    "rebase = auto_rebase_pass({OpType.CZ, OpType.Rz, OpType.Rx})\n",
    "circ = Circuit(3)\n",
    "circ.CX(0, 1).Rx(0.3, 1).CX(2, 1).Rz(0.8, 1)\n",
    "render_circuit_jupyter(circ)\n",
    "\n",
    "circ1 = circ.copy()\n",
    "rebase.apply(circ1)\n",
    "EulerAngleReduction(OpType.Rz, OpType.Rx).apply(circ1)\n",
    "render_circuit_jupyter(circ1)\n",
    "\n",
    "circ2 = circ.copy()\n",
    "comp = SequencePass([rebase, EulerAngleReduction(OpType.Rz, OpType.Rx)])\n",
    "comp.apply(circ2)\n",
    "render_circuit_jupyter(circ2)"
   ]
  },
  {
   "cell_type": "markdown",
   "id": "074fd560",
   "metadata": {
    "jp-MarkdownHeadingCollapsed": true,
    "tags": []
   },
   "source": [
    "参考\n",
    "- pytket.passes https://cqcl.github.io/tket/pytket/api/passes.html\n",
    "\n",
    "弊社Quantinuumのご紹介\n",
    "- Quantinuum ウェブサイト（ 英語 ）： https://www.quantinuum.com/\n",
    "- Quantinuum K.K. ウェブサイト（ 日本語 ）： https://quantinuum.co.jp/\n",
    "- 各種技術詳細（ 英語 ）： https://www.quantinuum.com/products\n",
    "- ニュース（ 日本語 ）： https://quantinuum.co.jp/news/  \n",
    "- Twitter（ 日本語 ）： https://twitter.com/quantinuum_jp\n",
    "- Quantinuum K.K.主催の勉強会（ 日本語 ）： https://quantinuum.connpass.com/  \n",
    "- 採用情報（ 英語 ）：https://www.quantinuum.com/careers\n",
    "- TKET user slack channel：[TKET slack channel](https://join.slack.com/t/tketusers/shared_invite/zt-22295t975-eAsoPg0i4ANHajPAe61VzQ)\n",
    "\n",
    "<img src=\"./fig/slack-qr.png\" width=\"250\">\n"
   ]
  },
  {
   "cell_type": "markdown",
   "id": "0f109210",
   "metadata": {},
   "source": [
    "### アンケートのお願い\n",
    "下記のURLから講演についてのアンケートにご協力ください。\n",
    "マテリアルのブラッシュアップに利用させていただきます。\n",
    "よろしくお願いいたします。\n",
    "\n",
    "https://forms.office.com/r/zGS9yPxdRx\n",
    "\n",
    "<img src=\"fig/アンケート.png\" width=\"350\">"
   ]
  },
  {
   "cell_type": "code",
   "execution_count": null,
   "id": "5b5280cb",
   "metadata": {},
   "outputs": [],
   "source": []
  }
 ],
 "metadata": {
  "availableInstances": [
   {
    "_defaultOrder": 0,
    "_isFastLaunch": true,
    "category": "General purpose",
    "gpuNum": 0,
    "hideHardwareSpecs": false,
    "memoryGiB": 4,
    "name": "ml.t3.medium",
    "vcpuNum": 2
   },
   {
    "_defaultOrder": 1,
    "_isFastLaunch": false,
    "category": "General purpose",
    "gpuNum": 0,
    "hideHardwareSpecs": false,
    "memoryGiB": 8,
    "name": "ml.t3.large",
    "vcpuNum": 2
   },
   {
    "_defaultOrder": 2,
    "_isFastLaunch": false,
    "category": "General purpose",
    "gpuNum": 0,
    "hideHardwareSpecs": false,
    "memoryGiB": 16,
    "name": "ml.t3.xlarge",
    "vcpuNum": 4
   },
   {
    "_defaultOrder": 3,
    "_isFastLaunch": false,
    "category": "General purpose",
    "gpuNum": 0,
    "hideHardwareSpecs": false,
    "memoryGiB": 32,
    "name": "ml.t3.2xlarge",
    "vcpuNum": 8
   },
   {
    "_defaultOrder": 4,
    "_isFastLaunch": true,
    "category": "General purpose",
    "gpuNum": 0,
    "hideHardwareSpecs": false,
    "memoryGiB": 8,
    "name": "ml.m5.large",
    "vcpuNum": 2
   },
   {
    "_defaultOrder": 5,
    "_isFastLaunch": false,
    "category": "General purpose",
    "gpuNum": 0,
    "hideHardwareSpecs": false,
    "memoryGiB": 16,
    "name": "ml.m5.xlarge",
    "vcpuNum": 4
   },
   {
    "_defaultOrder": 6,
    "_isFastLaunch": false,
    "category": "General purpose",
    "gpuNum": 0,
    "hideHardwareSpecs": false,
    "memoryGiB": 32,
    "name": "ml.m5.2xlarge",
    "vcpuNum": 8
   },
   {
    "_defaultOrder": 7,
    "_isFastLaunch": false,
    "category": "General purpose",
    "gpuNum": 0,
    "hideHardwareSpecs": false,
    "memoryGiB": 64,
    "name": "ml.m5.4xlarge",
    "vcpuNum": 16
   },
   {
    "_defaultOrder": 8,
    "_isFastLaunch": false,
    "category": "General purpose",
    "gpuNum": 0,
    "hideHardwareSpecs": false,
    "memoryGiB": 128,
    "name": "ml.m5.8xlarge",
    "vcpuNum": 32
   },
   {
    "_defaultOrder": 9,
    "_isFastLaunch": false,
    "category": "General purpose",
    "gpuNum": 0,
    "hideHardwareSpecs": false,
    "memoryGiB": 192,
    "name": "ml.m5.12xlarge",
    "vcpuNum": 48
   },
   {
    "_defaultOrder": 10,
    "_isFastLaunch": false,
    "category": "General purpose",
    "gpuNum": 0,
    "hideHardwareSpecs": false,
    "memoryGiB": 256,
    "name": "ml.m5.16xlarge",
    "vcpuNum": 64
   },
   {
    "_defaultOrder": 11,
    "_isFastLaunch": false,
    "category": "General purpose",
    "gpuNum": 0,
    "hideHardwareSpecs": false,
    "memoryGiB": 384,
    "name": "ml.m5.24xlarge",
    "vcpuNum": 96
   },
   {
    "_defaultOrder": 12,
    "_isFastLaunch": false,
    "category": "General purpose",
    "gpuNum": 0,
    "hideHardwareSpecs": false,
    "memoryGiB": 8,
    "name": "ml.m5d.large",
    "vcpuNum": 2
   },
   {
    "_defaultOrder": 13,
    "_isFastLaunch": false,
    "category": "General purpose",
    "gpuNum": 0,
    "hideHardwareSpecs": false,
    "memoryGiB": 16,
    "name": "ml.m5d.xlarge",
    "vcpuNum": 4
   },
   {
    "_defaultOrder": 14,
    "_isFastLaunch": false,
    "category": "General purpose",
    "gpuNum": 0,
    "hideHardwareSpecs": false,
    "memoryGiB": 32,
    "name": "ml.m5d.2xlarge",
    "vcpuNum": 8
   },
   {
    "_defaultOrder": 15,
    "_isFastLaunch": false,
    "category": "General purpose",
    "gpuNum": 0,
    "hideHardwareSpecs": false,
    "memoryGiB": 64,
    "name": "ml.m5d.4xlarge",
    "vcpuNum": 16
   },
   {
    "_defaultOrder": 16,
    "_isFastLaunch": false,
    "category": "General purpose",
    "gpuNum": 0,
    "hideHardwareSpecs": false,
    "memoryGiB": 128,
    "name": "ml.m5d.8xlarge",
    "vcpuNum": 32
   },
   {
    "_defaultOrder": 17,
    "_isFastLaunch": false,
    "category": "General purpose",
    "gpuNum": 0,
    "hideHardwareSpecs": false,
    "memoryGiB": 192,
    "name": "ml.m5d.12xlarge",
    "vcpuNum": 48
   },
   {
    "_defaultOrder": 18,
    "_isFastLaunch": false,
    "category": "General purpose",
    "gpuNum": 0,
    "hideHardwareSpecs": false,
    "memoryGiB": 256,
    "name": "ml.m5d.16xlarge",
    "vcpuNum": 64
   },
   {
    "_defaultOrder": 19,
    "_isFastLaunch": false,
    "category": "General purpose",
    "gpuNum": 0,
    "hideHardwareSpecs": false,
    "memoryGiB": 384,
    "name": "ml.m5d.24xlarge",
    "vcpuNum": 96
   },
   {
    "_defaultOrder": 20,
    "_isFastLaunch": false,
    "category": "General purpose",
    "gpuNum": 0,
    "hideHardwareSpecs": true,
    "memoryGiB": 0,
    "name": "ml.geospatial.interactive",
    "supportedImageNames": [
     "sagemaker-geospatial-v1-0"
    ],
    "vcpuNum": 0
   },
   {
    "_defaultOrder": 21,
    "_isFastLaunch": true,
    "category": "Compute optimized",
    "gpuNum": 0,
    "hideHardwareSpecs": false,
    "memoryGiB": 4,
    "name": "ml.c5.large",
    "vcpuNum": 2
   },
   {
    "_defaultOrder": 22,
    "_isFastLaunch": false,
    "category": "Compute optimized",
    "gpuNum": 0,
    "hideHardwareSpecs": false,
    "memoryGiB": 8,
    "name": "ml.c5.xlarge",
    "vcpuNum": 4
   },
   {
    "_defaultOrder": 23,
    "_isFastLaunch": false,
    "category": "Compute optimized",
    "gpuNum": 0,
    "hideHardwareSpecs": false,
    "memoryGiB": 16,
    "name": "ml.c5.2xlarge",
    "vcpuNum": 8
   },
   {
    "_defaultOrder": 24,
    "_isFastLaunch": false,
    "category": "Compute optimized",
    "gpuNum": 0,
    "hideHardwareSpecs": false,
    "memoryGiB": 32,
    "name": "ml.c5.4xlarge",
    "vcpuNum": 16
   },
   {
    "_defaultOrder": 25,
    "_isFastLaunch": false,
    "category": "Compute optimized",
    "gpuNum": 0,
    "hideHardwareSpecs": false,
    "memoryGiB": 72,
    "name": "ml.c5.9xlarge",
    "vcpuNum": 36
   },
   {
    "_defaultOrder": 26,
    "_isFastLaunch": false,
    "category": "Compute optimized",
    "gpuNum": 0,
    "hideHardwareSpecs": false,
    "memoryGiB": 96,
    "name": "ml.c5.12xlarge",
    "vcpuNum": 48
   },
   {
    "_defaultOrder": 27,
    "_isFastLaunch": false,
    "category": "Compute optimized",
    "gpuNum": 0,
    "hideHardwareSpecs": false,
    "memoryGiB": 144,
    "name": "ml.c5.18xlarge",
    "vcpuNum": 72
   },
   {
    "_defaultOrder": 28,
    "_isFastLaunch": false,
    "category": "Compute optimized",
    "gpuNum": 0,
    "hideHardwareSpecs": false,
    "memoryGiB": 192,
    "name": "ml.c5.24xlarge",
    "vcpuNum": 96
   },
   {
    "_defaultOrder": 29,
    "_isFastLaunch": true,
    "category": "Accelerated computing",
    "gpuNum": 1,
    "hideHardwareSpecs": false,
    "memoryGiB": 16,
    "name": "ml.g4dn.xlarge",
    "vcpuNum": 4
   },
   {
    "_defaultOrder": 30,
    "_isFastLaunch": false,
    "category": "Accelerated computing",
    "gpuNum": 1,
    "hideHardwareSpecs": false,
    "memoryGiB": 32,
    "name": "ml.g4dn.2xlarge",
    "vcpuNum": 8
   },
   {
    "_defaultOrder": 31,
    "_isFastLaunch": false,
    "category": "Accelerated computing",
    "gpuNum": 1,
    "hideHardwareSpecs": false,
    "memoryGiB": 64,
    "name": "ml.g4dn.4xlarge",
    "vcpuNum": 16
   },
   {
    "_defaultOrder": 32,
    "_isFastLaunch": false,
    "category": "Accelerated computing",
    "gpuNum": 1,
    "hideHardwareSpecs": false,
    "memoryGiB": 128,
    "name": "ml.g4dn.8xlarge",
    "vcpuNum": 32
   },
   {
    "_defaultOrder": 33,
    "_isFastLaunch": false,
    "category": "Accelerated computing",
    "gpuNum": 4,
    "hideHardwareSpecs": false,
    "memoryGiB": 192,
    "name": "ml.g4dn.12xlarge",
    "vcpuNum": 48
   },
   {
    "_defaultOrder": 34,
    "_isFastLaunch": false,
    "category": "Accelerated computing",
    "gpuNum": 1,
    "hideHardwareSpecs": false,
    "memoryGiB": 256,
    "name": "ml.g4dn.16xlarge",
    "vcpuNum": 64
   },
   {
    "_defaultOrder": 35,
    "_isFastLaunch": false,
    "category": "Accelerated computing",
    "gpuNum": 1,
    "hideHardwareSpecs": false,
    "memoryGiB": 61,
    "name": "ml.p3.2xlarge",
    "vcpuNum": 8
   },
   {
    "_defaultOrder": 36,
    "_isFastLaunch": false,
    "category": "Accelerated computing",
    "gpuNum": 4,
    "hideHardwareSpecs": false,
    "memoryGiB": 244,
    "name": "ml.p3.8xlarge",
    "vcpuNum": 32
   },
   {
    "_defaultOrder": 37,
    "_isFastLaunch": false,
    "category": "Accelerated computing",
    "gpuNum": 8,
    "hideHardwareSpecs": false,
    "memoryGiB": 488,
    "name": "ml.p3.16xlarge",
    "vcpuNum": 64
   },
   {
    "_defaultOrder": 38,
    "_isFastLaunch": false,
    "category": "Accelerated computing",
    "gpuNum": 8,
    "hideHardwareSpecs": false,
    "memoryGiB": 768,
    "name": "ml.p3dn.24xlarge",
    "vcpuNum": 96
   },
   {
    "_defaultOrder": 39,
    "_isFastLaunch": false,
    "category": "Memory Optimized",
    "gpuNum": 0,
    "hideHardwareSpecs": false,
    "memoryGiB": 16,
    "name": "ml.r5.large",
    "vcpuNum": 2
   },
   {
    "_defaultOrder": 40,
    "_isFastLaunch": false,
    "category": "Memory Optimized",
    "gpuNum": 0,
    "hideHardwareSpecs": false,
    "memoryGiB": 32,
    "name": "ml.r5.xlarge",
    "vcpuNum": 4
   },
   {
    "_defaultOrder": 41,
    "_isFastLaunch": false,
    "category": "Memory Optimized",
    "gpuNum": 0,
    "hideHardwareSpecs": false,
    "memoryGiB": 64,
    "name": "ml.r5.2xlarge",
    "vcpuNum": 8
   },
   {
    "_defaultOrder": 42,
    "_isFastLaunch": false,
    "category": "Memory Optimized",
    "gpuNum": 0,
    "hideHardwareSpecs": false,
    "memoryGiB": 128,
    "name": "ml.r5.4xlarge",
    "vcpuNum": 16
   },
   {
    "_defaultOrder": 43,
    "_isFastLaunch": false,
    "category": "Memory Optimized",
    "gpuNum": 0,
    "hideHardwareSpecs": false,
    "memoryGiB": 256,
    "name": "ml.r5.8xlarge",
    "vcpuNum": 32
   },
   {
    "_defaultOrder": 44,
    "_isFastLaunch": false,
    "category": "Memory Optimized",
    "gpuNum": 0,
    "hideHardwareSpecs": false,
    "memoryGiB": 384,
    "name": "ml.r5.12xlarge",
    "vcpuNum": 48
   },
   {
    "_defaultOrder": 45,
    "_isFastLaunch": false,
    "category": "Memory Optimized",
    "gpuNum": 0,
    "hideHardwareSpecs": false,
    "memoryGiB": 512,
    "name": "ml.r5.16xlarge",
    "vcpuNum": 64
   },
   {
    "_defaultOrder": 46,
    "_isFastLaunch": false,
    "category": "Memory Optimized",
    "gpuNum": 0,
    "hideHardwareSpecs": false,
    "memoryGiB": 768,
    "name": "ml.r5.24xlarge",
    "vcpuNum": 96
   },
   {
    "_defaultOrder": 47,
    "_isFastLaunch": false,
    "category": "Accelerated computing",
    "gpuNum": 1,
    "hideHardwareSpecs": false,
    "memoryGiB": 16,
    "name": "ml.g5.xlarge",
    "vcpuNum": 4
   },
   {
    "_defaultOrder": 48,
    "_isFastLaunch": false,
    "category": "Accelerated computing",
    "gpuNum": 1,
    "hideHardwareSpecs": false,
    "memoryGiB": 32,
    "name": "ml.g5.2xlarge",
    "vcpuNum": 8
   },
   {
    "_defaultOrder": 49,
    "_isFastLaunch": false,
    "category": "Accelerated computing",
    "gpuNum": 1,
    "hideHardwareSpecs": false,
    "memoryGiB": 64,
    "name": "ml.g5.4xlarge",
    "vcpuNum": 16
   },
   {
    "_defaultOrder": 50,
    "_isFastLaunch": false,
    "category": "Accelerated computing",
    "gpuNum": 1,
    "hideHardwareSpecs": false,
    "memoryGiB": 128,
    "name": "ml.g5.8xlarge",
    "vcpuNum": 32
   },
   {
    "_defaultOrder": 51,
    "_isFastLaunch": false,
    "category": "Accelerated computing",
    "gpuNum": 1,
    "hideHardwareSpecs": false,
    "memoryGiB": 256,
    "name": "ml.g5.16xlarge",
    "vcpuNum": 64
   },
   {
    "_defaultOrder": 52,
    "_isFastLaunch": false,
    "category": "Accelerated computing",
    "gpuNum": 4,
    "hideHardwareSpecs": false,
    "memoryGiB": 192,
    "name": "ml.g5.12xlarge",
    "vcpuNum": 48
   },
   {
    "_defaultOrder": 53,
    "_isFastLaunch": false,
    "category": "Accelerated computing",
    "gpuNum": 4,
    "hideHardwareSpecs": false,
    "memoryGiB": 384,
    "name": "ml.g5.24xlarge",
    "vcpuNum": 96
   },
   {
    "_defaultOrder": 54,
    "_isFastLaunch": false,
    "category": "Accelerated computing",
    "gpuNum": 8,
    "hideHardwareSpecs": false,
    "memoryGiB": 768,
    "name": "ml.g5.48xlarge",
    "vcpuNum": 192
   },
   {
    "_defaultOrder": 55,
    "_isFastLaunch": false,
    "category": "Accelerated computing",
    "gpuNum": 8,
    "hideHardwareSpecs": false,
    "memoryGiB": 1152,
    "name": "ml.p4d.24xlarge",
    "vcpuNum": 96
   },
   {
    "_defaultOrder": 56,
    "_isFastLaunch": false,
    "category": "Accelerated computing",
    "gpuNum": 8,
    "hideHardwareSpecs": false,
    "memoryGiB": 1152,
    "name": "ml.p4de.24xlarge",
    "vcpuNum": 96
   }
  ],
  "instance_type": "ml.t3.medium",
  "kernelspec": {
   "display_name": "Python 3 (Base Python 3.0)",
   "language": "python",
   "name": "python3__SAGEMAKER_INTERNAL__arn:aws:sagemaker:us-west-1:742091327244:image/sagemaker-base-python-310-v1"
  },
  "language_info": {
   "codemirror_mode": {
    "name": "ipython",
    "version": 3
   },
   "file_extension": ".py",
   "mimetype": "text/x-python",
   "name": "python",
   "nbconvert_exporter": "python",
   "pygments_lexer": "ipython3",
   "version": "3.10.8"
  }
 },
 "nbformat": 4,
 "nbformat_minor": 5
}
