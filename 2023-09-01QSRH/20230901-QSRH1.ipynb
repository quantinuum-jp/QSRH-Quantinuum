{
 "cells": [
  {
   "cell_type": "markdown",
   "id": "9c089a8b-b52a-429b-b53d-5a2978691450",
   "metadata": {},
   "source": [
    "環境にTKET (pytket)と拡張機能(pytket-extension)をインストール。  \n",
    "以下のセルを実行し、インストールしてください。"
   ]
  },
  {
   "cell_type": "code",
   "execution_count": null,
   "id": "b15ada96-1bda-4cbc-b9ae-e905b32843ce",
   "metadata": {
    "tags": []
   },
   "outputs": [],
   "source": [
    "!pip install -U pytket\n",
    "!pip install -U pytket-qiskit\n",
    "!pip install -U pytket-braket\n",
    "!pip install -U pytket-qulacs\n",
    "#!pip install -U pytket-qsharp #こちらのパッケージは.net等のインストールが必要です。\n",
    "!pip install -U matplotlib #可視化のためのパッケージ\n",
    "!pip install -U pylatexenc #可視化のためのパッケージ"
   ]
  },
  {
   "cell_type": "markdown",
   "id": "13b79212-6de1-4147-9620-0fc27bbcb126",
   "metadata": {},
   "source": [
    "pytket がインストールされたか確認"
   ]
  },
  {
   "cell_type": "code",
   "execution_count": null,
   "id": "2c4ef14e-f51f-42de-88ff-af4abb6084a9",
   "metadata": {
    "tags": []
   },
   "outputs": [],
   "source": [
    "!pip freeze |grep pytket"
   ]
  },
  {
   "cell_type": "markdown",
   "id": "b8cb093b",
   "metadata": {
    "tags": []
   },
   "source": [
    "## 0. 今日の量子コンピュータの問題\n",
    "\n",
    "- Noisy Intermediate-Scale Quantum (NISQ) デバイス\n",
    "    - 量子回路が深くなる（ゲート数が多くなる）ほど、誤差が大きくなる\n",
    "    - 十分な量子ビット数ではない\n",
    "- 量子デバイスは特別なゲート演算のみが用意されている\n",
    "- 特定のqubits間の量子ビット演算(multi qubit operation)しか用意されていない\n",
    "- それぞれの量子デバイスに対して、量子ソフトウェアツールキットが用意されてる\n"
   ]
  },
  {
   "cell_type": "markdown",
   "id": "6e1950ee",
   "metadata": {
    "tags": []
   },
   "source": [
    "### 0-1. TKETとは\n",
    "- Quantum Software Development Kit\n",
    "- TKETに実装されている回路最適化はC++で実装\n",
    "- pythonモジュール　`pytket`で利用可能\n",
    "- 最適化コンパイラ：　ユーザーフレンドリーな回路→量子デバイスで実行可能な回路に変換可能\n",
    "    - Language-agnostic (多くの量子プログラミングフレームワーク(qiskit, Cirq, etc)をサポート)\n",
    "    - Retagetable (多くの量子デバイス(IBM, Quantinuum, Amazon Braket(IonQ, Rigetti, OQC), Microsoft Azure Quantum(Quantinuu,IonQ, Rigetti) etc)をサポート)\n",
    "    - Circuit Optimisation (量子計算時に生じるデバイスエラーの影響を最小化。デバイス依存＆デバイス非依存のものが実装)\n",
    "    \n",
    "<img src=\"./fig/tket1.png\" width=\"750\">\n",
    "\n"
   ]
  },
  {
   "cell_type": "markdown",
   "id": "75c32ba7",
   "metadata": {
    "tags": []
   },
   "source": [
    "#### 参照\n",
    "- [pytket ドキュメント](https://cqcl.github.io/tket/pytket/api/index.html)\n",
    "- [pytket ユーザーマニュアル](https://cqcl.github.io/pytket/manual/index.html)\n",
    "- [t|ket⟩ : A Retargetable Compiler for NISQ Devices](https://arxiv.org/abs/2003.10611)\n",
    "- [TKET slack channel](https://join.slack.com/t/tketusers/shared_invite/zt-22295t975-eAsoPg0i4ANHajPAe61VzQ)\n",
    "\n",
    "<img src=\"./fig/slack-qr.png\" width=\"250\">\n"
   ]
  },
  {
   "cell_type": "markdown",
   "id": "90fcd536",
   "metadata": {
    "tags": []
   },
   "source": [
    "### 0-2. 今回必要となる python パッケージ\n",
    "Python Python 3.10.8で動作確認をしています。\n",
    "\n",
    "|  パッケージ （version） |  概要  |\n",
    "| :---- | :---- |\n",
    "|  pytket  |  TKETを利用するためのpython モジュール  ( available for python3.9 or higher )|\n",
    "|  pytket-qiskit  |  qiskitを利用するためのpytket-extension  |\n",
    "|  pytket-braket  |  Amazon Braketを利用するためのpytket-extension  |\n",
    "|  pytket-qsharp  |  Azure Quantumを利用するためのpytket-extension  |\n",
    "|  pytket-circ    |  Google circを利用するためのpytket-extension  |\n",
    "|  pytket-qulacs  |  Qulacsを利用するためのpytket-extension  |\n",
    "\n",
    "<img src=\"./fig/tket2.png\" width=\"750\">"
   ]
  },
  {
   "cell_type": "markdown",
   "id": "2e43c4f2",
   "metadata": {
    "tags": []
   },
   "source": [
    "## 1. 量子回路を作成する\n",
    "ここでは IBMの量子デバイスやシュミレーションを利用できる`qiskit`と`TKET`でGreenberger–Horne–Zeilinger状態を作成する。"
   ]
  },
  {
   "cell_type": "markdown",
   "id": "4b5f8f4b",
   "metadata": {},
   "source": [
    "### 1-1. `qiskit`で4 qubitsのGreenberger–Horne–Zeilinger状態を作成\n",
    "$$ |\\Psi\\rangle = \\frac{1}{\\sqrt{2}}(|0000\\rangle+|1111\\rangle)$$"
   ]
  },
  {
   "cell_type": "code",
   "execution_count": null,
   "id": "3d9e4a20",
   "metadata": {},
   "outputs": [],
   "source": [
    "from qiskit import QuantumCircuit\n",
    "\n",
    "qs_ghz4 = QuantumCircuit(4)\n",
    "qs_ghz4.h(0)\n",
    "qs_ghz4.cx(0,1)\n",
    "qs_ghz4.cx(0,2)\n",
    "qs_ghz4.cx(0,3)\n",
    "qs_ghz4.measure_all()\n",
    "\n",
    "qs_ghz4.draw(output='mpl')"
   ]
  },
  {
   "cell_type": "code",
   "execution_count": null,
   "id": "ceeee451",
   "metadata": {},
   "outputs": [],
   "source": [
    "#from qiskit.tools.visualization import circuit_drawer\n",
    "#circuit_drawer(qs_ghz4, output='mpl')"
   ]
  },
  {
   "cell_type": "markdown",
   "id": "4c0d22db",
   "metadata": {
    "slideshow": {
     "slide_type": "slide"
    }
   },
   "source": [
    "### 1-2. IBMが提供しているローカルシミュレータで計算"
   ]
  },
  {
   "cell_type": "code",
   "execution_count": null,
   "id": "56449c7b",
   "metadata": {},
   "outputs": [],
   "source": [
    "from qiskit import Aer\n",
    "from qiskit.visualization import plot_histogram"
   ]
  },
  {
   "cell_type": "code",
   "execution_count": null,
   "id": "6081ad71",
   "metadata": {},
   "outputs": [],
   "source": [
    "#Aer.backends()"
   ]
  },
  {
   "cell_type": "code",
   "execution_count": null,
   "id": "4d250a09",
   "metadata": {},
   "outputs": [],
   "source": [
    "ibm_sim = Aer.get_backend('aer_simulator')"
   ]
  },
  {
   "cell_type": "code",
   "execution_count": null,
   "id": "3899b615",
   "metadata": {},
   "outputs": [],
   "source": [
    "handle = ibm_sim.run(qs_ghz4, shots=1000)\n",
    "counts = handle.result().get_counts()\n",
    "plot_histogram(counts)"
   ]
  },
  {
   "cell_type": "markdown",
   "id": "82da5f25",
   "metadata": {},
   "source": [
    "### 1-3. `TKET`でGreenberger–Horne–Zeilinger状態を作成"
   ]
  },
  {
   "cell_type": "code",
   "execution_count": null,
   "id": "76615941",
   "metadata": {
    "tags": []
   },
   "outputs": [],
   "source": [
    "from pytket import Circuit\n",
    "from pytket.circuit.display import render_circuit_jupyter\n",
    "\n",
    "ghz4 = Circuit(4)\n",
    "ghz4.H(0).CX(0,1).CX(0,2).CX(0,3)\n",
    "ghz4.measure_all()\n",
    "render_circuit_jupyter(ghz4)"
   ]
  },
  {
   "cell_type": "markdown",
   "id": "a1e02a9b",
   "metadata": {},
   "source": [
    "### 1-4. `pytket-qiskit`でTKET 量子回路をIBMのローカルシミュレータで計算"
   ]
  },
  {
   "cell_type": "code",
   "execution_count": null,
   "id": "6c4bfc9e",
   "metadata": {},
   "outputs": [],
   "source": [
    "from pytket.extensions.qiskit import AerBackend\n",
    "backend = AerBackend()\n",
    "\n",
    "handle = backend.process_circuit(ghz4, n_shots =1000)\n",
    "result_counts = backend.get_result(handle).get_counts()\n",
    "plot_histogram(result_counts)"
   ]
  },
  {
   "cell_type": "markdown",
   "id": "4182bbbe-57fe-453e-9bb8-3b5e86b5aab8",
   "metadata": {
    "tags": []
   },
   "source": [
    "### 1-5. `pytket-qiskit`でTKET 量子回路をIBMの量子デバイスで計算"
   ]
  },
  {
   "cell_type": "markdown",
   "id": "97d6bf84-aa19-4eb6-a38a-e608d0f47f2d",
   "metadata": {},
   "source": [
    "IBM tokenの設定"
   ]
  },
  {
   "cell_type": "code",
   "execution_count": null,
   "id": "541fe6eb-69ba-45e1-bd4e-f3bb72c66a37",
   "metadata": {},
   "outputs": [],
   "source": [
    "path = 'key/ibm-token'\n",
    "f = open(path)\n",
    "ibm_token = f.read()\n",
    "f.close()\n",
    "#from pytket.extensions.qiskit.backends.config import set_ibmq_config\n",
    "#set_ibmq_config(ibmq_api_token=ibm_token, instance=f\"ibm-q/open/main\")"
   ]
  },
  {
   "cell_type": "code",
   "execution_count": null,
   "id": "9c6c1d2a-1566-4dd9-a29b-1e7dfb1d923d",
   "metadata": {
    "tags": []
   },
   "outputs": [],
   "source": [
    "from qiskit_ibm_provider import IBMProvider\n",
    "IBMProvider.save_account(token=ibm_token, overwrite=True)"
   ]
  },
  {
   "cell_type": "code",
   "execution_count": null,
   "id": "1d93627c-3ebe-4401-8412-2e52a74d8228",
   "metadata": {},
   "outputs": [],
   "source": [
    "from pytket.extensions.qiskit import IBMQBackend, IBMQEmulatorBackend, AerBackend\n",
    "from pytket import Circuit\n",
    "from pytket.circuit.display import render_circuit_jupyter"
   ]
  },
  {
   "cell_type": "code",
   "execution_count": null,
   "id": "ed63efd3-1031-41f9-bdf0-2a389a7060d0",
   "metadata": {},
   "outputs": [],
   "source": [
    "device = IBMQBackend.available_devices()"
   ]
  },
  {
   "cell_type": "code",
   "execution_count": null,
   "id": "2da92576-0cd9-4dca-907f-cf64e00ec405",
   "metadata": {
    "tags": []
   },
   "outputs": [],
   "source": [
    "[dev.device_name for dev in device]"
   ]
  },
  {
   "cell_type": "markdown",
   "id": "fa729ce6-5883-4b31-8f76-b6b10623f617",
   "metadata": {},
   "source": [
    "##### ※注意 IBMから以下の発表があった\n",
    "９月２６日周辺：以下のデバイスは引退を予定  \n",
    "ibmq_lima, ibmq_belem, ibmq_quito, ibmq_manila, ibmq_jakarta.  \n",
    "１０月２８日周辺：以下のデバイスは引退を予定  \n",
    "ibm_perth, ibm_lagos, ibm_nairobi."
   ]
  },
  {
   "cell_type": "code",
   "execution_count": null,
   "id": "d2983583-6eef-454e-9631-095c5d47ad2b",
   "metadata": {},
   "outputs": [],
   "source": [
    "# ibm_backend = AerBackend()\n",
    "# ibm_backend = IBMQBackend(\"ibmq_lima\")\n",
    "# ibm_backend = IBMQBackend(\"ibmq_qasm_simulator\")\n",
    "# AerBackend to emulate the behaviour of IBMQBackend. Requires a valid IBMQ account.\n",
    "ibm_backend = IBMQEmulatorBackend(\"ibmq_lima\")"
   ]
  },
  {
   "cell_type": "markdown",
   "id": "f2099ee5-425a-4927-b1a9-dcf4ed876d64",
   "metadata": {},
   "source": [
    "### IBMのクラウドシミュレータ（ibmq_lima）にジョブを実行\n",
    "<img src=\"./fig/lima.png\" width=\"250\">  \n",
    "\n",
    "IBM Quantum device `ibmq_lima` https://quantum-computing.ibm.com/services/resources?tab=systems&skip=20&system=ibmq_lima\n",
    "\n"
   ]
  },
  {
   "cell_type": "code",
   "execution_count": null,
   "id": "c2117d90-9dd7-48a0-9dbe-52474bc43e91",
   "metadata": {},
   "outputs": [],
   "source": [
    "ibm_ghz4 = ibm_backend.get_compiled_circuit(ghz4)\n",
    "render_circuit_jupyter(ibm_ghz4)\n",
    "render_circuit_jupyter(ghz4)"
   ]
  },
  {
   "cell_type": "code",
   "execution_count": null,
   "id": "33171256-8ef9-44a0-a66c-293a9bca9459",
   "metadata": {},
   "outputs": [],
   "source": [
    "handle = ibm_backend.process_circuit(ibm_ghz4, n_shots =1000)\n",
    "result_counts = ibm_backend.get_result(handle).get_counts()\n",
    "plot_histogram(result_counts)"
   ]
  },
  {
   "cell_type": "markdown",
   "id": "19a5ddbf-8e50-4af7-b7fa-d02623945b0b",
   "metadata": {},
   "source": [
    "### 1-5. `pytket-qulacs`でTKET 量子回路をQulacsシミュレータで計算"
   ]
  },
  {
   "cell_type": "code",
   "execution_count": null,
   "id": "9e4e9f5c-fb93-47a2-bf47-55d3044784b1",
   "metadata": {},
   "outputs": [],
   "source": [
    "from pytket.extensions.qulacs import QulacsBackend\n",
    "backend = QulacsBackend()\n",
    "\n",
    "handle = backend.process_circuit(ghz4, n_shots =1000)\n",
    "result_counts = backend.get_result(handle).get_counts()\n",
    "plot_histogram(result_counts)"
   ]
  },
  {
   "cell_type": "markdown",
   "id": "fbd1a75e-95c4-4eea-9a90-37d9c0d88843",
   "metadata": {},
   "source": [
    "### GPU上でQulacsを利用している場合にも対応している\n"
   ]
  },
  {
   "cell_type": "code",
   "execution_count": null,
   "id": "5f594f73-d88a-4feb-9816-b4e76c1be261",
   "metadata": {},
   "outputs": [],
   "source": [
    "#from pytket.extensions.qulacs import QulacsGPUBackend\n",
    "#backend = QulacsGPUBackend()\n",
    "\n",
    "#handle = backend.process_circuit(ghz4, n_shots =1000)\n",
    "#result_counts = backend.get_result(handle).get_counts()\n",
    "#plot_histogram(result_counts)"
   ]
  },
  {
   "cell_type": "markdown",
   "id": "92b2cd58-01eb-4c01-bf9c-640b410da622",
   "metadata": {},
   "source": [
    "詳しくは\n",
    "https://cqcl.github.io/pytket-qulacs/api/index.html\n",
    "を参照ください"
   ]
  },
  {
   "cell_type": "markdown",
   "id": "147defbd-0961-42d5-ac0b-47455ab5d8a7",
   "metadata": {},
   "source": [
    "### 1-6. `pytket-braket`でTKET 量子回路をBraketシミュレータやBraketにある量子デバイスで計算"
   ]
  },
  {
   "cell_type": "markdown",
   "id": "26f58aef-f482-45c0-9762-bc9c072080bd",
   "metadata": {},
   "source": [
    "#### A. ローカル環境からBraketにアクセスされている方は、keyフォルダーのaws-keyのアクセスキー等の情報を入力し下記を実行してください"
   ]
  },
  {
   "cell_type": "code",
   "execution_count": null,
   "id": "bf9a13a6-9d34-4c2d-92e9-90f1f306cf00",
   "metadata": {},
   "outputs": [],
   "source": [
    "#path = 'key/aws-key'\n",
    "#f = open(path)\n",
    "#aws_access_key_id, aws_secret_access_key, s3_name, bucket_key= [s.strip() for s in f.readlines()]\n",
    "#f.close()"
   ]
  },
  {
   "cell_type": "code",
   "execution_count": null,
   "id": "4320c59e-03a3-499f-843a-d9b64c0e3206",
   "metadata": {},
   "outputs": [],
   "source": [
    "#import boto3\n",
    "#from braket.aws import AwsSession\n",
    "#boto_session = boto3.Session(\n",
    "#    aws_access_key_id= aws_access_key_id,\n",
    "#    aws_secret_access_key= aws_secret_access_key,\n",
    "#    region_name= 'us-east-1'\n",
    "##    region_name= 'us-west-1'\n",
    "##    region_name= 'eu-west-2'\n",
    "#)\n",
    "## us-east-1: IonQ, Simulators\n",
    "## us-west-1: Rigetti, Simulators\n",
    "## eu-west-2: Lucy, Simulators\n",
    "##\n",
    "#aws_session = AwsSession(boto_session=boto_session)"
   ]
  },
  {
   "cell_type": "markdown",
   "id": "1b5201aa-5d7f-4e46-9580-7d1377a92cac",
   "metadata": {},
   "source": [
    "#### B. Sagemaker StudioからBraketにアクセスされている方は下記を実行してください。"
   ]
  },
  {
   "cell_type": "code",
   "execution_count": null,
   "id": "750404da-585b-4a2b-a94a-b972fdd3aab2",
   "metadata": {},
   "outputs": [],
   "source": [
    "import boto3\n",
    "from braket.aws import AwsSession\n",
    "boto_session = boto3.Session(\n",
    "    region_name= 'us-east-1'\n",
    "#    region_name= 'us-west-1'\n",
    "#    region_name= 'eu-west-2'\n",
    ")\n",
    "# us-east-1: IonQ, Simulators\n",
    "# us-west-1: Rigetti, Simulators\n",
    "# eu-west-2: Lucy, Simulators\n",
    "#\n",
    "aws_session = AwsSession(boto_session=boto_session)"
   ]
  },
  {
   "cell_type": "markdown",
   "id": "ebe4bc9a-7239-49a2-ac4d-50b16f5a236d",
   "metadata": {},
   "source": [
    "<img src=\"./fig/s3_setting.png\" width=\"750\">\n",
    "\n",
    "AWS環境に関する束野さん資料のP41から\n",
    "https://jstouqsrh-my.sharepoint.com/:p:/g/personal/hironobu_noguchi_jstouqsrh_onmicrosoft_com/EV8r8PaW7i9EgockwNbf27IBdaS0oOnm"
   ]
  },
  {
   "cell_type": "code",
   "execution_count": null,
   "id": "4a5eb169-5906-43d4-bdce-2a7754725a75",
   "metadata": {},
   "outputs": [],
   "source": [
    "s3_name = 'amazon-braket-osaka23'\n",
    "bucket_key = 'user23-\"your_number\"/pytket'"
   ]
  },
  {
   "cell_type": "code",
   "execution_count": null,
   "id": "e3fda17d-9b5b-4eef-81fb-f1a4facfe0cf",
   "metadata": {},
   "outputs": [],
   "source": [
    "device = aws_session.search_devices()"
   ]
  },
  {
   "cell_type": "code",
   "execution_count": null,
   "id": "e5c28d05-2627-4797-8faa-40ebc7ea0e56",
   "metadata": {},
   "outputs": [],
   "source": [
    "[dev for dev in device if dev[\"deviceStatus\"]!='RETIRED']"
   ]
  },
  {
   "cell_type": "code",
   "execution_count": null,
   "id": "45cfdf67-2861-4613-83f4-6fe16060a82e",
   "metadata": {},
   "outputs": [],
   "source": [
    "# backend の選択\n",
    "from pytket.extensions.braket import BraketBackend\n",
    "\n",
    "# ionQ   arn:aws:braket:us-east-1::device/qpu/ionq/Aria-1, region: us-east-1\n",
    "# aws_backend = BraketBackend(device='Aria-1',region = 'us-east-1', s3_bucket=s3_name , s3_folder = bucket_key, device_type = 'qpu', provider = 'ionq', aws_session=aws_session)\n",
    "# ionQ   arn:aws:braket:us-east-1::device/qpu/ionq/Harmony, region: us-east-1\n",
    "# aws_backend = BraketBackend(device='Harmony',region = 'us-east-1', s3_bucket=s3_name , s3_folder = bucket_key, device_type = 'qpu', provider = 'ionq', aws_session=aws_session)\n",
    "# Aspen-M-3   arn:aws:braket:us-west-1::device/qpu/rigetti/Aspen-M-1 #Aspen-M-1, region: us-west-1\n",
    "# aws_backend = BraketBackend(device='Aspen-M-3',region = 'us-west-1', s3_bucket=s3_name , s3_folder = bucket_key, device_type = 'qpu', provider = 'rigetti', aws_session=aws_session)\n",
    "# Oxford Lucy   arn:aws:braket:eu-west-2::device/qpu/oqc/Lucy #Lucy, region: eu-west-2\n",
    "# aws_backend = BraketBackend(device='Lucy',region = 'eu-west-2', s3_bucket=s3_name , s3_folder = bucket_key, device_type = 'qpu', provider = 'oqc', aws_session=aws_session)\n",
    "# SV1    sim_arn = 'arn:aws:braket:::device/quantum-simulator/amazon/sv1'     #SV1, region:\n",
    "aws_backend = BraketBackend(device='sv1', s3_bucket=s3_name , s3_folder = bucket_key, aws_session=aws_session)\n",
    "# TN1   sim_arn = 'arn:aws:braket:::device/quantum-simulator/amazon/tn1'    #TN1, region: us-west-2, us-east-1\n",
    "# aws_backend = BraketBackend(device='tn1', s3_bucket=s3_name , s3_folder = bucket_key, device_type = 'quantum-simulator', provider = 'amazon', aws_session=aws_session)\n",
    "# DM1   sim_arn = 'arn:aws:braket:::device/quantum-simulator/amazon/dm1'    #DM1, region: \n",
    "# aws_backend = BraketBackend(device='dm1', s3_bucket=s3_name , s3_folder = bucket_key, device_type = 'quantum-simulator', provider = 'amazon', aws_session=aws_session)\n",
    "# Local sv1 simulator\n",
    "# aws_backend = BraketBackend(local = True)"
   ]
  },
  {
   "cell_type": "code",
   "execution_count": null,
   "id": "1a973261-89c7-48d0-a95e-7e6cbb29457c",
   "metadata": {
    "tags": []
   },
   "outputs": [],
   "source": [
    "aws_backend.backend_info"
   ]
  },
  {
   "cell_type": "code",
   "execution_count": null,
   "id": "668dbd2a-4810-4f84-b477-542f09ae5746",
   "metadata": {},
   "outputs": [],
   "source": [
    "from pytket import Circuit\n",
    "from pytket.circuit.display import render_circuit_jupyter\n",
    "# Greenberger–Horne–Zeilinger状態の作成\n",
    "ghz4 = Circuit(4)\n",
    "ghz4.H(0).CX(0,1).CX(0,2).CX(0,3)\n",
    "ghz4.measure_all()\n",
    "render_circuit_jupyter(ghz4)\n",
    "\n",
    "# backend に用意されているゲートで量子回路を表現\n",
    "aws_ghz4 = aws_backend.get_compiled_circuit(ghz4)\n",
    "render_circuit_jupyter(aws_ghz4)"
   ]
  },
  {
   "cell_type": "code",
   "execution_count": null,
   "id": "7f61ead6-64c5-4a67-97d1-3267fe81ccef",
   "metadata": {},
   "outputs": [],
   "source": [
    "aws_handle = aws_backend.process_circuit(aws_ghz4, n_shots =100)\n",
    "aws_result = aws_backend.get_result(aws_handle)\n",
    "aws_counts = aws_result.get_counts()\n",
    "print(aws_counts)\n",
    "from qiskit.visualization import plot_histogram\n",
    "plot_histogram(aws_result.get_counts())"
   ]
  },
  {
   "cell_type": "code",
   "execution_count": null,
   "id": "cb284530-f02d-4fe5-96a7-e9231bac62fc",
   "metadata": {
    "tags": []
   },
   "outputs": [],
   "source": [
    "aws_handle = aws_backend.process_circuit(ghz4, n_shots =100)\n",
    "aws_result = aws_backend.get_result(aws_handle)\n",
    "aws_counts = aws_result.get_counts()\n",
    "print(aws_counts)\n",
    "from qiskit.visualization import plot_histogram\n",
    "plot_histogram(aws_result.get_counts())"
   ]
  },
  {
   "cell_type": "markdown",
   "id": "6e626578-634b-43ec-900d-554b06b9d32c",
   "metadata": {},
   "source": [
    "### 1-7. `pytket-qsharp`でTKET 量子回路をMicrosoft Azure Quantumにある量子デバイスで計算が可能\n",
    "本講演では詳細は割愛致しますが、Azure Quantum上でTKETをご利用になられたい方は下記のページ  \n",
    "https://cqcl.github.io/pytket-qsharp/api/index.html  \n",
    "または  \n",
    "米澤(yasuyoshi.yonezawa@quantinuum.com)までご連絡ください。"
   ]
  },
  {
   "cell_type": "code",
   "execution_count": null,
   "id": "c191a0d4-47f8-4169-b159-f0dfde8a811c",
   "metadata": {},
   "outputs": [],
   "source": []
  },
  {
   "cell_type": "markdown",
   "id": "3409b146-65a8-4095-94cb-c34b9a4dcbc8",
   "metadata": {},
   "source": [
    "## 2. 量子回路の最適化\n",
    "量子計算時に生じるデバイスエラーの影響を最小化。\n",
    "デバイス非依存のものが実装\n"
   ]
  },
  {
   "cell_type": "markdown",
   "id": "bae1e99c",
   "metadata": {},
   "source": [
    "### 2-1. `PauliSimp` 関数を利用した、量子回路の最適化\n",
    "TKETには量子回路を最適化する様々な機能が用意されている。\n",
    "ここでは、`PauliSimp` 関数を利用した回路の最適化を行う。\n",
    "\n",
    "（`PauliSimp` 関数：Pauli ゲートとCliffordゲートで表現された量子回路を出力）\n",
    "\n",
    "ランダムな量子回路を作成し、回路の深さとCXの深さを数える。"
   ]
  },
  {
   "cell_type": "code",
   "execution_count": null,
   "id": "a96b3e7a",
   "metadata": {},
   "outputs": [],
   "source": [
    "from pytket.pauli import Pauli\n",
    "from pytket.circuit import PauliExpBox, fresh_symbol, OpType\n",
    "from pytket.passes import DecomposeBoxes\n",
    "box = PauliExpBox([Pauli.I, Pauli.Z, Pauli.X, Pauli.Y], fresh_symbol('tm'))\n",
    "from pytket.utils import Graph\n",
    "import numpy as np\n",
    "\n",
    "def get_random_pauli_gadgets(n_qubits, n_pauli_gadgets, max_entangle):\n",
    "    \"\"\" \"\"\"\n",
    "    paulis = [Pauli.I, Pauli.X, Pauli.Y, Pauli.Z]\n",
    "    circ = Circuit(n_qubits)\n",
    "    for i in range(n_pauli_gadgets):\n",
    "        ls_paulis = [np.random.choice(paulis) for k in range(max_entangle)]\n",
    "        if ls_paulis.count(Pauli.Y) % 2 == 0:\n",
    "            continue\n",
    "        if len(ls_paulis) - ls_paulis.count(Pauli.I) <= 1:\n",
    "            continue\n",
    "        qubits = np.random.choice(\n",
    "            [i for i in range(n_qubits)], size=max_entangle, replace=False\n",
    "        )\n",
    "        box = PauliExpBox(ls_paulis, fresh_symbol('a'))\n",
    "        circ.add_pauliexpbox(box, sorted(qubits))\n",
    "    DecomposeBoxes().apply(circ)\n",
    "    return circ\n",
    "\n",
    "circ = get_random_pauli_gadgets(\n",
    "    n_qubits=8, n_pauli_gadgets=300, max_entangle=5\n",
    ")\n",
    "print('Circuit depth: ', circ.depth())\n",
    "print('CX depth: ', circ.depth_by_type(OpType.CX))\n",
    "render_circuit_jupyter(circ)"
   ]
  },
  {
   "cell_type": "markdown",
   "id": "dfe39210",
   "metadata": {},
   "source": [
    "`PauliSimp` 関数を使って、量子回路の最適化"
   ]
  },
  {
   "cell_type": "code",
   "execution_count": null,
   "id": "d48f9aac",
   "metadata": {},
   "outputs": [],
   "source": [
    "# Circuit optimization by using compiler passes.\n",
    "from pytket.passes import PauliSimp,FullPeepholeOptimise\n",
    "circx = circ.copy()\n",
    "PauliSimp().apply(circx)\n",
    "#FullPeepholeOptimise().apply(circx)\n",
    "print('Circuit depth: ', circx.depth())\n",
    "print('CX depth: ', circx.depth_by_type(OpType.CX))\n",
    "render_circuit_jupyter(circx)"
   ]
  },
  {
   "cell_type": "markdown",
   "id": "3f570571",
   "metadata": {
    "tags": []
   },
   "source": [
    "## 3. 量子回路の変換\n",
    "pytketでは\n",
    "- qiskitで記述した量子回路(`qiskit.QuantumCircuit`)からTKETの量子回路のクラスに変換が可能\n",
    "- TKETで記述した量子回路からqiskitの量子回路(`qiskit.QuantumCircuit`)のクラスに変換が可能\n",
    "- TKETで記述した量子回路と他の量子プログラミング言語(一部)での量子回路の交換が可能\n",
    "\n",
    "参照：[pytket-extensions](https://cqcl.github.io/pytket-extensions/api/index.html) "
   ]
  },
  {
   "cell_type": "markdown",
   "id": "cc06b5db",
   "metadata": {},
   "source": [
    "### 3-1. `qiskit`の量子回路から`TKET`の量子回路に変換"
   ]
  },
  {
   "cell_type": "code",
   "execution_count": null,
   "id": "67884d14",
   "metadata": {},
   "outputs": [],
   "source": [
    "from pytket.extensions.qiskit import qiskit_to_tk"
   ]
  },
  {
   "cell_type": "code",
   "execution_count": null,
   "id": "13f9045c",
   "metadata": {},
   "outputs": [],
   "source": [
    "ghz4_2 = qiskit_to_tk(qs_ghz4)\n",
    "ghz4_2"
   ]
  },
  {
   "cell_type": "code",
   "execution_count": null,
   "id": "131f2a7c",
   "metadata": {},
   "outputs": [],
   "source": [
    "render_circuit_jupyter(ghz4_2)"
   ]
  },
  {
   "cell_type": "markdown",
   "id": "1d354e75",
   "metadata": {},
   "source": [
    "### 3-2. `TKET`の量子回路から`qiskit`の量子回路に変換"
   ]
  },
  {
   "cell_type": "code",
   "execution_count": null,
   "id": "bfe450cc",
   "metadata": {},
   "outputs": [],
   "source": [
    "from pytket.extensions.qiskit import tk_to_qiskit"
   ]
  },
  {
   "cell_type": "code",
   "execution_count": null,
   "id": "d91a19a2",
   "metadata": {},
   "outputs": [],
   "source": [
    "qs_ghz4_2 = tk_to_qiskit(ghz4)\n",
    "qs_ghz4_2"
   ]
  },
  {
   "cell_type": "code",
   "execution_count": null,
   "id": "06031b7d",
   "metadata": {},
   "outputs": [],
   "source": [
    "qs_ghz4_2.draw('mpl')"
   ]
  },
  {
   "cell_type": "markdown",
   "id": "eec7fd13-f9cb-49e7-9419-f9048a5e75da",
   "metadata": {},
   "source": [
    "### 3-3. `TKET`の量子回路から`braket`の量子回路に変換"
   ]
  },
  {
   "cell_type": "code",
   "execution_count": null,
   "id": "a6b3724f",
   "metadata": {},
   "outputs": [],
   "source": [
    "from pytket.extensions.braket import tk_to_braket\n",
    "aws_ghz4_2 = tk_to_braket(ghz4)[0]\n",
    "print(aws_ghz4_2)"
   ]
  },
  {
   "cell_type": "markdown",
   "id": "4292bf23-2aa5-4123-9670-8f5345355a97",
   "metadata": {
    "tags": []
   },
   "source": [
    "### 3-4. `braket`の量子回路から`TKET`の量子回路に変換"
   ]
  },
  {
   "cell_type": "code",
   "execution_count": null,
   "id": "038c090a-b2b0-49bf-9c8e-d37e69e28226",
   "metadata": {},
   "outputs": [],
   "source": [
    "from pytket.extensions.braket import braket_to_tk\n",
    "ghz4_3 = braket_to_tk(aws_ghz4_2)\n",
    "render_circuit_jupyter(ghz4_3)"
   ]
  },
  {
   "cell_type": "markdown",
   "id": "abe62932",
   "metadata": {
    "tags": []
   },
   "source": []
  },
  {
   "cell_type": "code",
   "execution_count": null,
   "id": "e9b1067c-dbed-48e0-9678-567ed1cbf8fa",
   "metadata": {},
   "outputs": [],
   "source": []
  },
  {
   "cell_type": "markdown",
   "id": "f5531565-c200-410b-b964-e0695bf2416d",
   "metadata": {
    "jp-MarkdownHeadingCollapsed": true,
    "tags": []
   },
   "source": [
    "弊社Quantinuumのご紹介\n",
    "- Quantinuum ウェブサイト（ 英語 ）： https://www.quantinuum.com/\n",
    "- Quantinuum K.K. ウェブサイト（ 日本語 ）： https://quantinuum.co.jp/\n",
    "- 各種技術詳細（ 英語 ）： https://www.quantinuum.com/products\n",
    "- ニュース（ 日本語 ）： https://quantinuum.co.jp/news/  \n",
    "- Twitter（ 日本語 ）： https://twitter.com/quantinuum_jp\n",
    "- Quantinuum K.K.主催の勉強会（ 日本語 ）： https://quantinuum.connpass.com/  \n",
    "- 採用情報（ 英語 ）：https://www.quantinuum.com/careers\n",
    "- TKET slack channel：[TKET slack channel](https://join.slack.com/t/tketusers/shared_invite/zt-22295t975-eAsoPg0i4ANHajPAe61VzQ)\n",
    "\n",
    "<img src=\"./fig/slack-qr.png\" width=\"250\">\n"
   ]
  },
  {
   "cell_type": "code",
   "execution_count": null,
   "id": "41dc5af2-36de-4f36-a498-6523de5c7296",
   "metadata": {},
   "outputs": [],
   "source": []
  }
 ],
 "metadata": {
  "availableInstances": [
   {
    "_defaultOrder": 0,
    "_isFastLaunch": true,
    "category": "General purpose",
    "gpuNum": 0,
    "hideHardwareSpecs": false,
    "memoryGiB": 4,
    "name": "ml.t3.medium",
    "vcpuNum": 2
   },
   {
    "_defaultOrder": 1,
    "_isFastLaunch": false,
    "category": "General purpose",
    "gpuNum": 0,
    "hideHardwareSpecs": false,
    "memoryGiB": 8,
    "name": "ml.t3.large",
    "vcpuNum": 2
   },
   {
    "_defaultOrder": 2,
    "_isFastLaunch": false,
    "category": "General purpose",
    "gpuNum": 0,
    "hideHardwareSpecs": false,
    "memoryGiB": 16,
    "name": "ml.t3.xlarge",
    "vcpuNum": 4
   },
   {
    "_defaultOrder": 3,
    "_isFastLaunch": false,
    "category": "General purpose",
    "gpuNum": 0,
    "hideHardwareSpecs": false,
    "memoryGiB": 32,
    "name": "ml.t3.2xlarge",
    "vcpuNum": 8
   },
   {
    "_defaultOrder": 4,
    "_isFastLaunch": true,
    "category": "General purpose",
    "gpuNum": 0,
    "hideHardwareSpecs": false,
    "memoryGiB": 8,
    "name": "ml.m5.large",
    "vcpuNum": 2
   },
   {
    "_defaultOrder": 5,
    "_isFastLaunch": false,
    "category": "General purpose",
    "gpuNum": 0,
    "hideHardwareSpecs": false,
    "memoryGiB": 16,
    "name": "ml.m5.xlarge",
    "vcpuNum": 4
   },
   {
    "_defaultOrder": 6,
    "_isFastLaunch": false,
    "category": "General purpose",
    "gpuNum": 0,
    "hideHardwareSpecs": false,
    "memoryGiB": 32,
    "name": "ml.m5.2xlarge",
    "vcpuNum": 8
   },
   {
    "_defaultOrder": 7,
    "_isFastLaunch": false,
    "category": "General purpose",
    "gpuNum": 0,
    "hideHardwareSpecs": false,
    "memoryGiB": 64,
    "name": "ml.m5.4xlarge",
    "vcpuNum": 16
   },
   {
    "_defaultOrder": 8,
    "_isFastLaunch": false,
    "category": "General purpose",
    "gpuNum": 0,
    "hideHardwareSpecs": false,
    "memoryGiB": 128,
    "name": "ml.m5.8xlarge",
    "vcpuNum": 32
   },
   {
    "_defaultOrder": 9,
    "_isFastLaunch": false,
    "category": "General purpose",
    "gpuNum": 0,
    "hideHardwareSpecs": false,
    "memoryGiB": 192,
    "name": "ml.m5.12xlarge",
    "vcpuNum": 48
   },
   {
    "_defaultOrder": 10,
    "_isFastLaunch": false,
    "category": "General purpose",
    "gpuNum": 0,
    "hideHardwareSpecs": false,
    "memoryGiB": 256,
    "name": "ml.m5.16xlarge",
    "vcpuNum": 64
   },
   {
    "_defaultOrder": 11,
    "_isFastLaunch": false,
    "category": "General purpose",
    "gpuNum": 0,
    "hideHardwareSpecs": false,
    "memoryGiB": 384,
    "name": "ml.m5.24xlarge",
    "vcpuNum": 96
   },
   {
    "_defaultOrder": 12,
    "_isFastLaunch": false,
    "category": "General purpose",
    "gpuNum": 0,
    "hideHardwareSpecs": false,
    "memoryGiB": 8,
    "name": "ml.m5d.large",
    "vcpuNum": 2
   },
   {
    "_defaultOrder": 13,
    "_isFastLaunch": false,
    "category": "General purpose",
    "gpuNum": 0,
    "hideHardwareSpecs": false,
    "memoryGiB": 16,
    "name": "ml.m5d.xlarge",
    "vcpuNum": 4
   },
   {
    "_defaultOrder": 14,
    "_isFastLaunch": false,
    "category": "General purpose",
    "gpuNum": 0,
    "hideHardwareSpecs": false,
    "memoryGiB": 32,
    "name": "ml.m5d.2xlarge",
    "vcpuNum": 8
   },
   {
    "_defaultOrder": 15,
    "_isFastLaunch": false,
    "category": "General purpose",
    "gpuNum": 0,
    "hideHardwareSpecs": false,
    "memoryGiB": 64,
    "name": "ml.m5d.4xlarge",
    "vcpuNum": 16
   },
   {
    "_defaultOrder": 16,
    "_isFastLaunch": false,
    "category": "General purpose",
    "gpuNum": 0,
    "hideHardwareSpecs": false,
    "memoryGiB": 128,
    "name": "ml.m5d.8xlarge",
    "vcpuNum": 32
   },
   {
    "_defaultOrder": 17,
    "_isFastLaunch": false,
    "category": "General purpose",
    "gpuNum": 0,
    "hideHardwareSpecs": false,
    "memoryGiB": 192,
    "name": "ml.m5d.12xlarge",
    "vcpuNum": 48
   },
   {
    "_defaultOrder": 18,
    "_isFastLaunch": false,
    "category": "General purpose",
    "gpuNum": 0,
    "hideHardwareSpecs": false,
    "memoryGiB": 256,
    "name": "ml.m5d.16xlarge",
    "vcpuNum": 64
   },
   {
    "_defaultOrder": 19,
    "_isFastLaunch": false,
    "category": "General purpose",
    "gpuNum": 0,
    "hideHardwareSpecs": false,
    "memoryGiB": 384,
    "name": "ml.m5d.24xlarge",
    "vcpuNum": 96
   },
   {
    "_defaultOrder": 20,
    "_isFastLaunch": false,
    "category": "General purpose",
    "gpuNum": 0,
    "hideHardwareSpecs": true,
    "memoryGiB": 0,
    "name": "ml.geospatial.interactive",
    "supportedImageNames": [
     "sagemaker-geospatial-v1-0"
    ],
    "vcpuNum": 0
   },
   {
    "_defaultOrder": 21,
    "_isFastLaunch": true,
    "category": "Compute optimized",
    "gpuNum": 0,
    "hideHardwareSpecs": false,
    "memoryGiB": 4,
    "name": "ml.c5.large",
    "vcpuNum": 2
   },
   {
    "_defaultOrder": 22,
    "_isFastLaunch": false,
    "category": "Compute optimized",
    "gpuNum": 0,
    "hideHardwareSpecs": false,
    "memoryGiB": 8,
    "name": "ml.c5.xlarge",
    "vcpuNum": 4
   },
   {
    "_defaultOrder": 23,
    "_isFastLaunch": false,
    "category": "Compute optimized",
    "gpuNum": 0,
    "hideHardwareSpecs": false,
    "memoryGiB": 16,
    "name": "ml.c5.2xlarge",
    "vcpuNum": 8
   },
   {
    "_defaultOrder": 24,
    "_isFastLaunch": false,
    "category": "Compute optimized",
    "gpuNum": 0,
    "hideHardwareSpecs": false,
    "memoryGiB": 32,
    "name": "ml.c5.4xlarge",
    "vcpuNum": 16
   },
   {
    "_defaultOrder": 25,
    "_isFastLaunch": false,
    "category": "Compute optimized",
    "gpuNum": 0,
    "hideHardwareSpecs": false,
    "memoryGiB": 72,
    "name": "ml.c5.9xlarge",
    "vcpuNum": 36
   },
   {
    "_defaultOrder": 26,
    "_isFastLaunch": false,
    "category": "Compute optimized",
    "gpuNum": 0,
    "hideHardwareSpecs": false,
    "memoryGiB": 96,
    "name": "ml.c5.12xlarge",
    "vcpuNum": 48
   },
   {
    "_defaultOrder": 27,
    "_isFastLaunch": false,
    "category": "Compute optimized",
    "gpuNum": 0,
    "hideHardwareSpecs": false,
    "memoryGiB": 144,
    "name": "ml.c5.18xlarge",
    "vcpuNum": 72
   },
   {
    "_defaultOrder": 28,
    "_isFastLaunch": false,
    "category": "Compute optimized",
    "gpuNum": 0,
    "hideHardwareSpecs": false,
    "memoryGiB": 192,
    "name": "ml.c5.24xlarge",
    "vcpuNum": 96
   },
   {
    "_defaultOrder": 29,
    "_isFastLaunch": true,
    "category": "Accelerated computing",
    "gpuNum": 1,
    "hideHardwareSpecs": false,
    "memoryGiB": 16,
    "name": "ml.g4dn.xlarge",
    "vcpuNum": 4
   },
   {
    "_defaultOrder": 30,
    "_isFastLaunch": false,
    "category": "Accelerated computing",
    "gpuNum": 1,
    "hideHardwareSpecs": false,
    "memoryGiB": 32,
    "name": "ml.g4dn.2xlarge",
    "vcpuNum": 8
   },
   {
    "_defaultOrder": 31,
    "_isFastLaunch": false,
    "category": "Accelerated computing",
    "gpuNum": 1,
    "hideHardwareSpecs": false,
    "memoryGiB": 64,
    "name": "ml.g4dn.4xlarge",
    "vcpuNum": 16
   },
   {
    "_defaultOrder": 32,
    "_isFastLaunch": false,
    "category": "Accelerated computing",
    "gpuNum": 1,
    "hideHardwareSpecs": false,
    "memoryGiB": 128,
    "name": "ml.g4dn.8xlarge",
    "vcpuNum": 32
   },
   {
    "_defaultOrder": 33,
    "_isFastLaunch": false,
    "category": "Accelerated computing",
    "gpuNum": 4,
    "hideHardwareSpecs": false,
    "memoryGiB": 192,
    "name": "ml.g4dn.12xlarge",
    "vcpuNum": 48
   },
   {
    "_defaultOrder": 34,
    "_isFastLaunch": false,
    "category": "Accelerated computing",
    "gpuNum": 1,
    "hideHardwareSpecs": false,
    "memoryGiB": 256,
    "name": "ml.g4dn.16xlarge",
    "vcpuNum": 64
   },
   {
    "_defaultOrder": 35,
    "_isFastLaunch": false,
    "category": "Accelerated computing",
    "gpuNum": 1,
    "hideHardwareSpecs": false,
    "memoryGiB": 61,
    "name": "ml.p3.2xlarge",
    "vcpuNum": 8
   },
   {
    "_defaultOrder": 36,
    "_isFastLaunch": false,
    "category": "Accelerated computing",
    "gpuNum": 4,
    "hideHardwareSpecs": false,
    "memoryGiB": 244,
    "name": "ml.p3.8xlarge",
    "vcpuNum": 32
   },
   {
    "_defaultOrder": 37,
    "_isFastLaunch": false,
    "category": "Accelerated computing",
    "gpuNum": 8,
    "hideHardwareSpecs": false,
    "memoryGiB": 488,
    "name": "ml.p3.16xlarge",
    "vcpuNum": 64
   },
   {
    "_defaultOrder": 38,
    "_isFastLaunch": false,
    "category": "Accelerated computing",
    "gpuNum": 8,
    "hideHardwareSpecs": false,
    "memoryGiB": 768,
    "name": "ml.p3dn.24xlarge",
    "vcpuNum": 96
   },
   {
    "_defaultOrder": 39,
    "_isFastLaunch": false,
    "category": "Memory Optimized",
    "gpuNum": 0,
    "hideHardwareSpecs": false,
    "memoryGiB": 16,
    "name": "ml.r5.large",
    "vcpuNum": 2
   },
   {
    "_defaultOrder": 40,
    "_isFastLaunch": false,
    "category": "Memory Optimized",
    "gpuNum": 0,
    "hideHardwareSpecs": false,
    "memoryGiB": 32,
    "name": "ml.r5.xlarge",
    "vcpuNum": 4
   },
   {
    "_defaultOrder": 41,
    "_isFastLaunch": false,
    "category": "Memory Optimized",
    "gpuNum": 0,
    "hideHardwareSpecs": false,
    "memoryGiB": 64,
    "name": "ml.r5.2xlarge",
    "vcpuNum": 8
   },
   {
    "_defaultOrder": 42,
    "_isFastLaunch": false,
    "category": "Memory Optimized",
    "gpuNum": 0,
    "hideHardwareSpecs": false,
    "memoryGiB": 128,
    "name": "ml.r5.4xlarge",
    "vcpuNum": 16
   },
   {
    "_defaultOrder": 43,
    "_isFastLaunch": false,
    "category": "Memory Optimized",
    "gpuNum": 0,
    "hideHardwareSpecs": false,
    "memoryGiB": 256,
    "name": "ml.r5.8xlarge",
    "vcpuNum": 32
   },
   {
    "_defaultOrder": 44,
    "_isFastLaunch": false,
    "category": "Memory Optimized",
    "gpuNum": 0,
    "hideHardwareSpecs": false,
    "memoryGiB": 384,
    "name": "ml.r5.12xlarge",
    "vcpuNum": 48
   },
   {
    "_defaultOrder": 45,
    "_isFastLaunch": false,
    "category": "Memory Optimized",
    "gpuNum": 0,
    "hideHardwareSpecs": false,
    "memoryGiB": 512,
    "name": "ml.r5.16xlarge",
    "vcpuNum": 64
   },
   {
    "_defaultOrder": 46,
    "_isFastLaunch": false,
    "category": "Memory Optimized",
    "gpuNum": 0,
    "hideHardwareSpecs": false,
    "memoryGiB": 768,
    "name": "ml.r5.24xlarge",
    "vcpuNum": 96
   },
   {
    "_defaultOrder": 47,
    "_isFastLaunch": false,
    "category": "Accelerated computing",
    "gpuNum": 1,
    "hideHardwareSpecs": false,
    "memoryGiB": 16,
    "name": "ml.g5.xlarge",
    "vcpuNum": 4
   },
   {
    "_defaultOrder": 48,
    "_isFastLaunch": false,
    "category": "Accelerated computing",
    "gpuNum": 1,
    "hideHardwareSpecs": false,
    "memoryGiB": 32,
    "name": "ml.g5.2xlarge",
    "vcpuNum": 8
   },
   {
    "_defaultOrder": 49,
    "_isFastLaunch": false,
    "category": "Accelerated computing",
    "gpuNum": 1,
    "hideHardwareSpecs": false,
    "memoryGiB": 64,
    "name": "ml.g5.4xlarge",
    "vcpuNum": 16
   },
   {
    "_defaultOrder": 50,
    "_isFastLaunch": false,
    "category": "Accelerated computing",
    "gpuNum": 1,
    "hideHardwareSpecs": false,
    "memoryGiB": 128,
    "name": "ml.g5.8xlarge",
    "vcpuNum": 32
   },
   {
    "_defaultOrder": 51,
    "_isFastLaunch": false,
    "category": "Accelerated computing",
    "gpuNum": 1,
    "hideHardwareSpecs": false,
    "memoryGiB": 256,
    "name": "ml.g5.16xlarge",
    "vcpuNum": 64
   },
   {
    "_defaultOrder": 52,
    "_isFastLaunch": false,
    "category": "Accelerated computing",
    "gpuNum": 4,
    "hideHardwareSpecs": false,
    "memoryGiB": 192,
    "name": "ml.g5.12xlarge",
    "vcpuNum": 48
   },
   {
    "_defaultOrder": 53,
    "_isFastLaunch": false,
    "category": "Accelerated computing",
    "gpuNum": 4,
    "hideHardwareSpecs": false,
    "memoryGiB": 384,
    "name": "ml.g5.24xlarge",
    "vcpuNum": 96
   },
   {
    "_defaultOrder": 54,
    "_isFastLaunch": false,
    "category": "Accelerated computing",
    "gpuNum": 8,
    "hideHardwareSpecs": false,
    "memoryGiB": 768,
    "name": "ml.g5.48xlarge",
    "vcpuNum": 192
   },
   {
    "_defaultOrder": 55,
    "_isFastLaunch": false,
    "category": "Accelerated computing",
    "gpuNum": 8,
    "hideHardwareSpecs": false,
    "memoryGiB": 1152,
    "name": "ml.p4d.24xlarge",
    "vcpuNum": 96
   },
   {
    "_defaultOrder": 56,
    "_isFastLaunch": false,
    "category": "Accelerated computing",
    "gpuNum": 8,
    "hideHardwareSpecs": false,
    "memoryGiB": 1152,
    "name": "ml.p4de.24xlarge",
    "vcpuNum": 96
   }
  ],
  "instance_type": "ml.t3.medium",
  "kernelspec": {
   "display_name": "Python 3 (Base Python 3.0)",
   "language": "python",
   "name": "python3__SAGEMAKER_INTERNAL__arn:aws:sagemaker:us-west-1:742091327244:image/sagemaker-base-python-310-v1"
  },
  "language_info": {
   "codemirror_mode": {
    "name": "ipython",
    "version": 3
   },
   "file_extension": ".py",
   "mimetype": "text/x-python",
   "name": "python",
   "nbconvert_exporter": "python",
   "pygments_lexer": "ipython3",
   "version": "3.10.8"
  }
 },
 "nbformat": 4,
 "nbformat_minor": 5
}
