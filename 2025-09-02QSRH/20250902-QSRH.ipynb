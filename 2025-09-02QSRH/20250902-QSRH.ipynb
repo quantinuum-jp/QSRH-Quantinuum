{
 "cells": [
  {
   "cell_type": "markdown",
   "id": "b8cb093b",
   "metadata": {
    "tags": []
   },
   "source": [
    "## 0. 今日の量子コンピュータの問題\n",
    "\n",
    "- Noisy Intermediate-Scale Quantum (NISQ) デバイス\n",
    "    - 量子回路が深くなる（ゲート数が多くなる）ほど、誤差が大きくなる\n",
    "    - 十分な量子ビット数ではない\n",
    "- 量子デバイスは特別なゲート演算のみが用意されている\n",
    "- 特定のqubits間の量子ビット演算(multi qubit operation)しか用意されていない\n",
    "- それぞれの量子デバイスに対して、量子ソフトウェアツールキットが用意されてる\n"
   ]
  },
  {
   "cell_type": "markdown",
   "id": "6e1950ee",
   "metadata": {
    "tags": []
   },
   "source": [
    "### 0-1. TKETとは\n",
    "- Quantum Software Development Kit\n",
    "- C++で実装\n",
    "- pythonモジュール　`pytket`で利用可能\n",
    "- 最適化コンパイラ：　ユーザーフレンドリーな回路→量子デバイスで実行可能な回路に変換可能\n",
    "    - Language-agnostic (多くの量子プログラミングフレームワーク(qiskit, Cirq, etc)をサポート)\n",
    "    - Retagetable (多くの量子デバイス(IBM, Honeywell, etc)をサポート)\n",
    "    - Circuit Optimisation (量子計算時に生じるデバイスエラーの影響を最小化。デバイス依存＆デバイス非依存のものが実装)\n",
    "    \n",
    "<img src=\"./fig/tket1.png\" width=\"750\">\n",
    "\n"
   ]
  },
  {
   "cell_type": "markdown",
   "id": "75c32ba7",
   "metadata": {
    "tags": []
   },
   "source": [
    "#### 参照\n",
    "- [pytket API ドキュメント](https://docs.quantinuum.com/tket/api-docs/index.html)\n",
    "- [pytket ユーザーガイド](https://docs.quantinuum.com/tket/user-guide/)\n",
    "- [t|ket⟩ : A Retargetable Compiler for NISQ Devices](https://arxiv.org/abs/2003.10611)"
   ]
  },
  {
   "cell_type": "markdown",
   "id": "90fcd536",
   "metadata": {
    "tags": []
   },
   "source": [
    "### 0-2. 今回必要となる python パッケージ\n",
    "Python Python 3.12.9で動作確認をしています。\n",
    "\n",
    "|  パッケージ （version） |  概要  |\n",
    "| :---- | :---- |\n",
    "|  pytket  |  TKETを利用するためのpython モジュール  ( available for python 3.10 or higher )|\n",
    "|  pytket-quantinuum  |  Quantinuum Emulatorを利用するためのpytket-extension  |\n",
    "|  pytket-qiskit  |  IBMQ qiskitを利用するためのpytket-extension  |\n",
    "|  pytket-braket  |  Amazon Braketを利用するためのpytket-extension  |\n",
    "|  pytket-qulacs  |  Qulacsを利用するためのpytket-extension  |\n",
    "\n",
    "<img src=\"./fig/tket2.png\" width=\"750\">"
   ]
  },
  {
   "cell_type": "code",
   "execution_count": null,
   "id": "453bb118-242d-4d1e-ac9e-a03536010c34",
   "metadata": {},
   "outputs": [],
   "source": [
    "!pip freeze |grep pytket"
   ]
  },
  {
   "cell_type": "markdown",
   "id": "aa16497a",
   "metadata": {},
   "source": [
    "環境にインストールされていない場合は、以下のセルの＃を取り除き、インストールしてください。"
   ]
  },
  {
   "cell_type": "code",
   "execution_count": null,
   "id": "f53935a7",
   "metadata": {
    "scrolled": true
   },
   "outputs": [],
   "source": [
    "#!pip install -U pytket #TKET量子回路の作成、量子回路の最適化をじっこうするためのパッケージ\n",
    "#!pip install -U pytket-quantinuum #pytketで構成した量子回路をQuantinuumエミュレータで実行するためのパッケージ\n",
    "#!pip install -U pytket-quantinuum[pecos] #Quantinuumエミュレータのパッケージ\n",
    "#!pip install -U pytket-qiskit #pytketで構成した量子回路をIBMQデバイス/エミュレータで実行するためのパッケージ\n",
    "#!pip install -U pytket-braket #pytketで構成した量子回路をAmazon Braketで実行するためのパッケージ\n",
    "#!pip install -U pytket-qulacs #pytketで構成した量子回路をqulacsで実行するためのパッケージ\n",
    "#!pip install -U pylatexenc #可視化のためのパッケージ"
   ]
  },
  {
   "cell_type": "markdown",
   "id": "2e43c4f2",
   "metadata": {
    "tags": []
   },
   "source": [
    "## 1. 量子回路を作成し、可視化する\n",
    "ここでは IBMの量子デバイスやシュミレーションを利用できる`qiskit`と`TKET`でベル状態を作成する。"
   ]
  },
  {
   "cell_type": "markdown",
   "id": "4b5f8f4b",
   "metadata": {},
   "source": [
    "### 1-1. `qiskit`でベル状態を作成し、可視化する\n",
    "$$ |\\Psi\\rangle = \\frac{1}{\\sqrt{2}}(|00\\rangle+|11\\rangle)$$"
   ]
  },
  {
   "cell_type": "code",
   "execution_count": null,
   "id": "3d9e4a20",
   "metadata": {},
   "outputs": [],
   "source": [
    "from qiskit import QuantumCircuit\n",
    "\n",
    "qs_bell = QuantumCircuit(2)\n",
    "qs_bell.h(0)\n",
    "qs_bell.cx(0,1)\n",
    "qs_bell.measure_all()\n",
    "\n",
    "qs_bell.draw(output='mpl')"
   ]
  },
  {
   "cell_type": "markdown",
   "id": "82da5f25",
   "metadata": {},
   "source": [
    "### 1-2. `TKET`でベル状態を作成し、可視化する"
   ]
  },
  {
   "cell_type": "code",
   "execution_count": null,
   "id": "76615941",
   "metadata": {
    "tags": []
   },
   "outputs": [],
   "source": [
    "from pytket import Circuit\n",
    "from pytket.circuit.display import render_circuit_jupyter\n",
    "\n",
    "bell = Circuit(2)\n",
    "bell.H(0).CX(0,1)\n",
    "bell.measure_all()\n",
    "render_circuit_jupyter(bell)"
   ]
  },
  {
   "cell_type": "markdown",
   "id": "83ef7f15-957d-4a44-87df-34ef8025cf31",
   "metadata": {},
   "source": [
    "## 2. `TKET`の量子回路を量子デバイス/シミュレータで実行"
   ]
  },
  {
   "cell_type": "markdown",
   "id": "147defbd-0961-42d5-ac0b-47455ab5d8a7",
   "metadata": {},
   "source": [
    "### 2-1. `pytket-braket`でTKET 量子回路をBraketシミュレータやBraketにある量子デバイスで計算"
   ]
  },
  {
   "cell_type": "markdown",
   "id": "26f58aef-f482-45c0-9762-bc9c072080bd",
   "metadata": {},
   "source": [
    "#### A. ローカル環境からBraketにアクセスされている方は、keyフォルダーのaws-keyのアクセスキー等の情報を入力し下記を実行してください"
   ]
  },
  {
   "cell_type": "code",
   "execution_count": null,
   "id": "bf9a13a6-9d34-4c2d-92e9-90f1f306cf00",
   "metadata": {},
   "outputs": [],
   "source": [
    "aws_access_key_id = \"your aws_access_key_id\"\n",
    "aws_secret_access_key = \"your aws_secret_access_key\"\n",
    "s3_bucket = \"your s3_name\"\n",
    "bucket_key = \"your bucket_key\""
   ]
  },
  {
   "cell_type": "code",
   "execution_count": null,
   "id": "4320c59e-03a3-499f-843a-d9b64c0e3206",
   "metadata": {},
   "outputs": [],
   "source": [
    "import boto3\n",
    "from braket.aws import AwsSession\n",
    "boto_session = boto3.Session(\n",
    "    aws_access_key_id= aws_access_key_id,\n",
    "    aws_secret_access_key= aws_secret_access_key,\n",
    "    region_name= 'us-east-1'\n",
    "#    region_name= 'us-west-1'\n",
    "#    region_name= 'eu-north-1'\n",
    ")\n",
    "# us-east-1: IonQ, Simulators\n",
    "# us-west-1: Rigetti, Simulators\n",
    "# eu-north-1: IQM\n",
    "#\n",
    "aws_session = AwsSession(boto_session=boto_session)"
   ]
  },
  {
   "cell_type": "markdown",
   "id": "1b5201aa-5d7f-4e46-9580-7d1377a92cac",
   "metadata": {},
   "source": [
    "#### B. Sagemaker StudioからBraketにアクセスされている方は下記を実行してください。"
   ]
  },
  {
   "cell_type": "code",
   "execution_count": null,
   "id": "2d9ee31a-1127-41ec-bddd-835b8514f2f3",
   "metadata": {},
   "outputs": [],
   "source": [
    "s3_bucket = 'amazon-braket-osaka25'\n",
    "#bucket_key = 'user25-your_number/pytket'"
   ]
  },
  {
   "cell_type": "code",
   "execution_count": null,
   "id": "750404da-585b-4a2b-a94a-b972fdd3aab2",
   "metadata": {},
   "outputs": [],
   "source": [
    "import boto3\n",
    "from braket.aws import AwsSession\n",
    "boto_session = boto3.Session(\n",
    "#    region_name= 'us-east-1'\n",
    "    region_name= 'us-west-1'\n",
    "#    region_name= 'eu-north-1'\n",
    ")\n",
    "# us-east-1: IonQ, Simulators\n",
    "# us-west-1: Rigetti, Simulators\n",
    "# eu-north-1: IQM\n",
    "#\n",
    "aws_session = AwsSession(boto_session=boto_session)"
   ]
  },
  {
   "cell_type": "code",
   "execution_count": null,
   "id": "e3fda17d-9b5b-4eef-81fb-f1a4facfe0cf",
   "metadata": {},
   "outputs": [],
   "source": [
    "device = aws_session.search_devices()"
   ]
  },
  {
   "cell_type": "code",
   "execution_count": null,
   "id": "e5c28d05-2627-4797-8faa-40ebc7ea0e56",
   "metadata": {},
   "outputs": [],
   "source": [
    "[dev for dev in device if dev[\"deviceStatus\"]!='RETIRED']"
   ]
  },
  {
   "cell_type": "markdown",
   "id": "f9e32bf7-c9c5-4004-a2d2-287d223165f1",
   "metadata": {},
   "source": [
    "# BraketBackendのオプション\n",
    "- local: use simulator running on local machine,\n",
    "            default: False\n",
    "- local_device: name of local device (ignored if local=False) -- e.g.\n",
    "            \"braket_sv\" (default) or \"braket_dm\".\n",
    "- device: device name from device ARN (e.g. \"Aria-1\", \"Ankaa-3\", ...),\n",
    "            default: \"sv1\"\n",
    "- region: region from device ARN, default: \"\"\n",
    "- s3_bucket: name of S3 bucket to store results\n",
    "- s3_folder: name of folder (\"key\") in S3 bucket to store results in\n",
    "- device_type: device type from device ARN (e.g. \"qpu\"),\n",
    "            default: \"quantum-simulator\"\n",
    "- provider: provider name from device ARN (e.g. \"ionq\", \"rigetti\", ...),\n",
    "            default: \"amazon\"\n",
    "- aws_session: braket AwsSession object, to pass credentials in if not\n",
    "            configured on local machine\n",
    "- verbatim: use the feature \"verbatim-compilation\".\n",
    "            If verbatim-compilation = True, you can execute your circuits composed of\n",
    "            the primitive gates supported by QPU without any modifications. default: False  \n",
    "\n",
    "※ IonQのverbatim、IQMの中間測定、フィードフォワードには未対応 (2025/09/02 時点)  \n",
    "For more details, see  \n",
    "verbatimについて:  \n",
    "https://docs.aws.amazon.com/braket/latest/developerguide/braket-constructing-circuit.html#verbatim-compilation  \n",
    "https://github.com/amazon-braket/amazon-braket-examples/blob/main/examples/braket_features/Verbatim_Compilation.ipynb  \n",
    "MCMについて:  \n",
    "https://docs.aws.amazon.com/braket/latest/developerguide/braket-experimental-capabilities.html#braket-access-dynamic-circuits\n",
    "https://github.com/amazon-braket/amazon-braket-examples/tree/main/examples/experimental_capabilities/dynamic_circuits"
   ]
  },
  {
   "cell_type": "code",
   "execution_count": null,
   "id": "45cfdf67-2861-4613-83f4-6fe16060a82e",
   "metadata": {},
   "outputs": [],
   "source": [
    "# backend の選択\n",
    "from pytket.extensions.braket import BraketBackend\n",
    "\n",
    "# ionQ Aria-1, region: us-east-1\n",
    "# aws_backend = BraketBackend(device='Aria-1',region = 'us-east-1', s3_bucket=s3_bucket , s3_folder = bucket_key, device_type = 'qpu', provider = 'ionq', aws_session=aws_session, verbatim=False)\n",
    "# ionQ Aria-2, region: us-east-1\n",
    "# aws_backend = BraketBackend(device='Aria-2',region = 'us-east-1', s3_bucket=s3_bucket , s3_folder = bucket_key, device_type = 'qpu', provider = 'ionq', aws_session=aws_session, verbatim=False)\n",
    "# ionQ Forte-1, region: us-east-1\n",
    "# aws_backend = BraketBackend(device='Forte-1',region = 'us-east-1', s3_bucket=s3_bucket , s3_folder = bucket_key, device_type = 'qpu', provider = 'ionq', aws_session=aws_session, verbatim=False)\n",
    "# ionQ Forte-Enterprise-1, region: us-east-1\n",
    "# aws_backend = BraketBackend(device='Forte-Enterprise-1',region = 'us-east-1', s3_bucket=s3_bucket , s3_folder = bucket_key, device_type = 'qpu', provider = 'ionq', aws_session=aws_session, verbatim=False)\n",
    "\n",
    "# Rigetti Ankaa-3, region: us-west-1\n",
    "# aws_backend = BraketBackend(device='Ankaa-3',region = 'us-west-1', s3_bucket=s3_bucket , s3_folder = bucket_key, device_type = 'qpu', provider = 'rigetti', aws_session=aws_session, verbatim=False)\n",
    "\n",
    "# IQM Garnet arn:aws:braket:eu-north-1::device/qpu/iqm/Garnet #region: eu-north-1\n",
    "# aws_backend = BraketBackend(device='Garnet',region = 'eu-north-1', s3_bucket=s3_bucket , s3_folder = bucket_key, device_type = 'qpu', provider = 'iqm', aws_session=aws_session, verbatim=False)\n",
    "# IQM Emerald arn:aws:braket:eu-north-1::device/qpu/iqm/ #region: eu-north-1\n",
    "# aws_backend = BraketBackend(device='Emerald',region = 'eu-north-1', s3_bucket=s3_bucket , s3_folder = bucket_key, device_type = 'qpu', provider = 'iqm', aws_session=aws_session, verbatim=True)\n",
    "\n",
    "# SV1    sim_arn = 'arn:aws:braket:::device/quantum-simulator/amazon/sv1'     #SV1, region:\n",
    "aws_backend = BraketBackend(device='sv1', s3_bucket=s3_bucket , s3_folder = bucket_key, device_type = 'quantum-simulator', provider = 'amazon', aws_session=aws_session)\n",
    "# TN1   sim_arn = 'arn:aws:braket:::device/quantum-simulator/amazon/tn1'    #TN1, region: \n",
    "# aws_backend = BraketBackend(device='tn1', s3_bucket=s3_bucket , s3_folder = bucket_key, device_type = 'quantum-simulator', provider = 'amazon', aws_session=aws_session)\n",
    "# DM1   sim_arn = 'arn:aws:braket:::device/quantum-simulator/amazon/dm1'    #DM1, region: \n",
    "# aws_backend = BraketBackend(device='dm1', s3_bucket=s3_bucket , s3_folder = bucket_key, device_type = 'quantum-simulator', provider = 'amazon', aws_session=aws_session)\n",
    "# Local sv1 simulator\n",
    "# aws_backend = BraketBackend(local = True)"
   ]
  },
  {
   "cell_type": "code",
   "execution_count": null,
   "id": "d099dd5b-a101-4722-bd8f-91c0d50ebfe2",
   "metadata": {
    "scrolled": true
   },
   "outputs": [],
   "source": [
    "aws_backend.backend_info"
   ]
  },
  {
   "cell_type": "code",
   "execution_count": null,
   "id": "668dbd2a-4810-4f84-b477-542f09ae5746",
   "metadata": {},
   "outputs": [],
   "source": [
    "from pytket import Circuit\n",
    "from pytket.circuit.display import render_circuit_jupyter\n",
    "# bell状態の作成\n",
    "bell = Circuit(2)\n",
    "bell.H(0).CX(0,1)\n",
    "bell.measure_all()\n",
    "render_circuit_jupyter(bell)\n",
    "\n",
    "# backend に用意されているゲートで量子回路を表現\n",
    "aws_bell = aws_backend.get_compiled_circuit(bell)\n",
    "render_circuit_jupyter(aws_bell)"
   ]
  },
  {
   "cell_type": "code",
   "execution_count": null,
   "id": "7f61ead6-64c5-4a67-97d1-3267fe81ccef",
   "metadata": {},
   "outputs": [],
   "source": [
    "aws_handle = aws_backend.process_circuit(aws_bell, n_shots =100)\n",
    "aws_result = aws_backend.get_result(aws_handle)\n",
    "aws_counts = aws_result.get_counts()\n",
    "print(aws_counts)\n",
    "from qiskit.visualization import plot_histogram\n",
    "plot_histogram(aws_result.get_counts())"
   ]
  },
  {
   "cell_type": "markdown",
   "id": "f2c7d2d3-72b5-40b7-9b51-f81cb218839e",
   "metadata": {},
   "source": [
    "### 2-2. `pytket-quantinuum`でTKET 量子回路をQuantinuumのローカルエミュレータで計算"
   ]
  },
  {
   "cell_type": "code",
   "execution_count": null,
   "id": "756d8ab3-46e0-4653-85e3-ca3434f77eeb",
   "metadata": {},
   "outputs": [],
   "source": [
    "from pytket.extensions.quantinuum import QuantinuumBackend, QuantinuumAPIOffline\n",
    "apioffline = QuantinuumAPIOffline()\n",
    "qntm_backend = QuantinuumBackend(device_name=\"H1-1LE\", api_handler = apioffline)"
   ]
  },
  {
   "cell_type": "code",
   "execution_count": null,
   "id": "19089cbb-f3e1-476a-bfa3-b423395c6811",
   "metadata": {},
   "outputs": [],
   "source": [
    "qntm_backend.backend_info"
   ]
  },
  {
   "cell_type": "code",
   "execution_count": null,
   "id": "7d793b06-ac8d-4f17-9d1a-6c3de831f22b",
   "metadata": {},
   "outputs": [],
   "source": [
    "# Compile the circuit using default compilation\n",
    "qntm_bell = qntm_backend.get_compiled_circuit(bell)"
   ]
  },
  {
   "cell_type": "code",
   "execution_count": null,
   "id": "6c6fccee-54e9-4632-8ea3-007e84f96680",
   "metadata": {},
   "outputs": [],
   "source": [
    "qntm_handle = qntm_backend.process_circuit(qntm_bell, n_shots=100)"
   ]
  },
  {
   "cell_type": "code",
   "execution_count": null,
   "id": "1fbdd5e7-91f7-4b2f-93e2-0b78d83ac6d4",
   "metadata": {},
   "outputs": [],
   "source": [
    "qntm_result = qntm_backend.get_result(qntm_handle)\n",
    "qntm_counts = qntm_result.get_counts()\n",
    "print(qntm_counts)\n",
    "from qiskit.visualization import plot_histogram\n",
    "plot_histogram(qntm_result.get_counts())"
   ]
  },
  {
   "cell_type": "markdown",
   "id": "a1e02a9b",
   "metadata": {},
   "source": [
    "### 2-3. `pytket-qiskit`でTKET 量子回路をIBMのローカルシミュレータで計算"
   ]
  },
  {
   "cell_type": "code",
   "execution_count": null,
   "id": "6c4bfc9e",
   "metadata": {},
   "outputs": [],
   "source": [
    "from qiskit.visualization import plot_histogram\n",
    "from pytket.extensions.qiskit import AerBackend\n",
    "aer_backend = AerBackend()\n",
    "\n",
    "aer_handle = aer_backend.process_circuit(bell, n_shots =1000)\n",
    "aer_counts = aer_backend.get_result(aer_handle).get_counts()\n",
    "plot_histogram(aer_counts)"
   ]
  },
  {
   "cell_type": "markdown",
   "id": "97d6bf84-aa19-4eb6-a38a-e608d0f47f2d",
   "metadata": {},
   "source": [
    "IBM tokenの設定"
   ]
  },
  {
   "cell_type": "code",
   "execution_count": null,
   "id": "541fe6eb-69ba-45e1-bd4e-f3bb72c66a37",
   "metadata": {},
   "outputs": [],
   "source": [
    "# Replace the placeholders with your actual values\n",
    "ibm_token = '<your_ibm_token_here>'\n",
    "inst = '<your_instance_CRN_here>'\n",
    "from qiskit_ibm_runtime import QiskitRuntimeService\n",
    "QiskitRuntimeService.save_account(channel=\"ibm_quantum_platform\", token=ibm_token, instance=inst)\n"
   ]
  },
  {
   "cell_type": "code",
   "execution_count": null,
   "id": "db2642c5-fdff-4efe-94a1-32bf9228cc1e",
   "metadata": {},
   "outputs": [],
   "source": [
    "from pytket.extensions.qiskit.backends.config import set_ibmq_config\n",
    "set_ibmq_config(ibmq_api_token=ibm_token, instance=f\"ibm-q/open/main\")"
   ]
  },
  {
   "cell_type": "code",
   "execution_count": null,
   "id": "1d93627c-3ebe-4401-8412-2e52a74d8228",
   "metadata": {},
   "outputs": [],
   "source": [
    "from pytket.extensions.qiskit import IBMQBackend, IBMQEmulatorBackend, AerBackend\n",
    "from pytket import Circuit\n",
    "from pytket.circuit.display import render_circuit_jupyter"
   ]
  },
  {
   "cell_type": "code",
   "execution_count": null,
   "id": "ed63efd3-1031-41f9-bdf0-2a389a7060d0",
   "metadata": {},
   "outputs": [],
   "source": [
    "list_backend=IBMQBackend.available_devices()"
   ]
  },
  {
   "cell_type": "code",
   "execution_count": null,
   "id": "f577535b-4f33-4a13-8514-7b90853f0f5b",
   "metadata": {},
   "outputs": [],
   "source": [
    "for b in list_backend:\n",
    "    print(b.device_name)"
   ]
  },
  {
   "cell_type": "code",
   "execution_count": null,
   "id": "d2983583-6eef-454e-9631-095c5d47ad2b",
   "metadata": {},
   "outputs": [],
   "source": [
    "# ibm_backend = AerBackend()\n",
    "# ibm_backend = IBMQBackend(\"ibm_pittsburgh\")\n",
    "# ibm_backend = IBMQBackend(\"ibm_pittsburgh\")\n",
    "# AerBackend to emulate the behaviour of IBMQBackend. Requires a valid IBMQ account.\n",
    "ibm_backend = IBMQEmulatorBackend(\"ibm_pittsburgh\")"
   ]
  },
  {
   "cell_type": "code",
   "execution_count": null,
   "id": "c2117d90-9dd7-48a0-9dbe-52474bc43e91",
   "metadata": {},
   "outputs": [],
   "source": [
    "ibm_bell = ibm_backend.get_compiled_circuit(bell)\n",
    "render_circuit_jupyter(bell)\n",
    "render_circuit_jupyter(ibm_bell)"
   ]
  },
  {
   "cell_type": "code",
   "execution_count": null,
   "id": "33171256-8ef9-44a0-a66c-293a9bca9459",
   "metadata": {},
   "outputs": [],
   "source": [
    "handle = ibm_backend.process_circuit(ibm_bell, n_shots =1000)\n",
    "result_counts = ibm_backend.get_result(handle).get_counts()\n",
    "plot_histogram(result_counts)"
   ]
  },
  {
   "cell_type": "markdown",
   "id": "19a5ddbf-8e50-4af7-b7fa-d02623945b0b",
   "metadata": {},
   "source": [
    "### 2-4. `pytket-qulacs`でTKET 量子回路をQulacsシミュレータで計算"
   ]
  },
  {
   "cell_type": "code",
   "execution_count": null,
   "id": "9e4e9f5c-fb93-47a2-bf47-55d3044784b1",
   "metadata": {},
   "outputs": [],
   "source": [
    "from pytket.extensions.qulacs import QulacsBackend\n",
    "qulacs_backend = QulacsBackend()\n",
    "\n",
    "qulacs_handle = qulacs_backend.process_circuit(bell, n_shots =1000)\n",
    "qulacs_counts = qulacs_backend.get_result(qulacs_handle).get_counts()\n",
    "plot_histogram(qulacs_counts)"
   ]
  },
  {
   "cell_type": "markdown",
   "id": "fbd1a75e-95c4-4eea-9a90-37d9c0d88843",
   "metadata": {},
   "source": [
    "#### GPU上でQulacsを利用している場合にも対応している\n"
   ]
  },
  {
   "cell_type": "code",
   "execution_count": null,
   "id": "5f594f73-d88a-4feb-9816-b4e76c1be261",
   "metadata": {},
   "outputs": [],
   "source": [
    "#from pytket.extensions.qulacs import QulacsGPUBackend\n",
    "#backend = QulacsGPUBackend()\n",
    "\n",
    "#handle = backend.process_circuit(bell, n_shots =1000)\n",
    "#result_counts = backend.get_result(handle).get_counts()\n",
    "#plot_histogram(result_counts)"
   ]
  },
  {
   "cell_type": "markdown",
   "id": "92b2cd58-01eb-4c01-bf9c-640b410da622",
   "metadata": {},
   "source": [
    "詳しくは\n",
    "https://docs.quantinuum.com/tket/extensions/pytket-qulacs/#gpu-acceleration\n",
    "を参照ください"
   ]
  },
  {
   "cell_type": "markdown",
   "id": "3f570571",
   "metadata": {
    "tags": []
   },
   "source": [
    "## 3. 量子回路の変換\n",
    "pytketでは\n",
    "- qiskitで記述した量子回路(`qiskit.QuantumCircuit`)からTKETの量子回路のクラスに変換が可能\n",
    "- TKETで記述した量子回路からqiskitの量子回路(`qiskit.QuantumCircuit`)のクラスに変換が可能\n",
    "- TKETで記述した量子回路と他の量子プログラミング言語(一部)での量子回路の交換が可能\n",
    "\n",
    "参照：[pytket-extensions](https://docs.quantinuum.com/tket/api-docs/extensions.html) "
   ]
  },
  {
   "cell_type": "markdown",
   "id": "cc06b5db",
   "metadata": {},
   "source": [
    "### 3-1. `qiskit`の量子回路から`TKET`の量子回路に変換"
   ]
  },
  {
   "cell_type": "code",
   "execution_count": null,
   "id": "67884d14",
   "metadata": {},
   "outputs": [],
   "source": [
    "from pytket.extensions.qiskit import qiskit_to_tk"
   ]
  },
  {
   "cell_type": "code",
   "execution_count": null,
   "id": "13f9045c",
   "metadata": {},
   "outputs": [],
   "source": [
    "bell2 = qiskit_to_tk(qs_bell)\n",
    "bell2"
   ]
  },
  {
   "cell_type": "code",
   "execution_count": null,
   "id": "131f2a7c",
   "metadata": {},
   "outputs": [],
   "source": [
    "render_circuit_jupyter(bell2)"
   ]
  },
  {
   "cell_type": "markdown",
   "id": "1d354e75",
   "metadata": {},
   "source": [
    "### 3-2. `TKET`の量子回路から`qiskit`の量子回路に変換"
   ]
  },
  {
   "cell_type": "code",
   "execution_count": null,
   "id": "bfe450cc",
   "metadata": {},
   "outputs": [],
   "source": [
    "from pytket.extensions.qiskit import tk_to_qiskit"
   ]
  },
  {
   "cell_type": "code",
   "execution_count": null,
   "id": "d91a19a2",
   "metadata": {},
   "outputs": [],
   "source": [
    "qs_bell2 = tk_to_qiskit(bell)\n",
    "qs_bell2"
   ]
  },
  {
   "cell_type": "code",
   "execution_count": null,
   "id": "06031b7d",
   "metadata": {},
   "outputs": [],
   "source": [
    "qs_bell2.draw('mpl')"
   ]
  },
  {
   "cell_type": "markdown",
   "id": "eec7fd13-f9cb-49e7-9419-f9048a5e75da",
   "metadata": {},
   "source": [
    "### 3-3. `TKET`の量子回路から`braket`の量子回路に変換"
   ]
  },
  {
   "cell_type": "code",
   "execution_count": null,
   "id": "a6b3724f",
   "metadata": {},
   "outputs": [],
   "source": [
    "from pytket.extensions.braket import tk_to_braket\n",
    "aws_bell2 = tk_to_braket(bell)[0]\n",
    "print(aws_bell2)"
   ]
  },
  {
   "cell_type": "markdown",
   "id": "4292bf23-2aa5-4123-9670-8f5345355a97",
   "metadata": {
    "tags": []
   },
   "source": [
    "### 3-4. `braket`の量子回路から`TKET`の量子回路に変換"
   ]
  },
  {
   "cell_type": "code",
   "execution_count": null,
   "id": "038c090a-b2b0-49bf-9c8e-d37e69e28226",
   "metadata": {},
   "outputs": [],
   "source": [
    "from pytket.extensions.braket import braket_to_tk\n",
    "bell3 = braket_to_tk(aws_bell2)\n",
    "render_circuit_jupyter(bell3)"
   ]
  },
  {
   "cell_type": "markdown",
   "id": "f5531565-c200-410b-b964-e0695bf2416d",
   "metadata": {
    "tags": []
   },
   "source": [
    "# 弊社Quantinuumのご紹介\n",
    "- Website（ 英語 ）： https://www.quantinuum.com/\n",
    "- ウェブサイト（ 日本語 ）： https://quantinuum.co.jp/\n",
    "- Press Releases（ 英語 ）： https://www.quantinuum.com/news/news#press-release\n",
    "- ニュース（ 日本語 ）： https://quantinuum.co.jp/news/\n",
    "- X（ 日本語 ）： https://x.com/quantinuum_jp\n",
    "- 採用情報（ 英語 ）：https://www.quantinuum.com/careers\n"
   ]
  },
  {
   "cell_type": "code",
   "execution_count": null,
   "id": "41dc5af2-36de-4f36-a498-6523de5c7296",
   "metadata": {},
   "outputs": [],
   "source": []
  }
 ],
 "metadata": {
  "kernelspec": {
   "display_name": "Python 3 (ipykernel)",
   "language": "python",
   "name": "python3"
  },
  "language_info": {
   "codemirror_mode": {
    "name": "ipython",
    "version": 3
   },
   "file_extension": ".py",
   "mimetype": "text/x-python",
   "name": "python",
   "nbconvert_exporter": "python",
   "pygments_lexer": "ipython3",
   "version": "3.12.9"
  }
 },
 "nbformat": 4,
 "nbformat_minor": 5
}
